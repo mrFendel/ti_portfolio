{
 "cells": [
  {
   "cell_type": "code",
   "execution_count": 79,
   "metadata": {
    "collapsed": true,
    "ExecuteTime": {
     "end_time": "2023-08-15T21:49:59.233741Z",
     "start_time": "2023-08-15T21:49:59.220038Z"
    }
   },
   "outputs": [],
   "source": [
    "import creds\n",
    "import portfolio_analytics.funcs as funcs\n",
    "\n",
    "tok = creds.token_ro_all"
   ]
  },
  {
   "cell_type": "code",
   "execution_count": 80,
   "outputs": [
    {
     "data": {
      "text/plain": "           id  type         name  status               opened_date  \\\n0  2170779975     1  ALCAP_robot       2 2022-05-04 00:00:00+00:00   \n\n                closed_date  access_level  \n0 1970-01-01 00:00:00+00:00             1  ",
      "text/html": "<div>\n<style scoped>\n    .dataframe tbody tr th:only-of-type {\n        vertical-align: middle;\n    }\n\n    .dataframe tbody tr th {\n        vertical-align: top;\n    }\n\n    .dataframe thead th {\n        text-align: right;\n    }\n</style>\n<table border=\"1\" class=\"dataframe\">\n  <thead>\n    <tr style=\"text-align: right;\">\n      <th></th>\n      <th>id</th>\n      <th>type</th>\n      <th>name</th>\n      <th>status</th>\n      <th>opened_date</th>\n      <th>closed_date</th>\n      <th>access_level</th>\n    </tr>\n  </thead>\n  <tbody>\n    <tr>\n      <th>0</th>\n      <td>2170779975</td>\n      <td>1</td>\n      <td>ALCAP_robot</td>\n      <td>2</td>\n      <td>2022-05-04 00:00:00+00:00</td>\n      <td>1970-01-01 00:00:00+00:00</td>\n      <td>1</td>\n    </tr>\n  </tbody>\n</table>\n</div>"
     },
     "execution_count": 80,
     "metadata": {},
     "output_type": "execute_result"
    }
   ],
   "source": [
    "funcs.accs_info(tok, to_df=True)"
   ],
   "metadata": {
    "collapsed": false,
    "ExecuteTime": {
     "end_time": "2023-08-15T21:49:59.315964Z",
     "start_time": "2023-08-15T21:49:59.224458Z"
    }
   }
  },
  {
   "cell_type": "code",
   "execution_count": 81,
   "outputs": [
    {
     "data": {
      "text/plain": "ticker                                                KWEB\nname                    KraneShares CSI China Internet ETF\nexchange                               dealer_int_exchange\ncountry_of_risk                                         US\ncountry_of_risk_name             Соединенные Штаты Америки\ninstrument_type                                        etf\ndtype: object"
     },
     "execution_count": 81,
     "metadata": {},
     "output_type": "execute_result"
    }
   ],
   "source": [
    "funcs.instrument_info(acc_token=tok, figi='BBG004XB9HY6', short=True)"
   ],
   "metadata": {
    "collapsed": false,
    "ExecuteTime": {
     "end_time": "2023-08-15T21:49:59.522564Z",
     "start_time": "2023-08-15T21:49:59.311896Z"
    }
   }
  },
  {
   "cell_type": "code",
   "execution_count": 82,
   "outputs": [
    {
     "data": {
      "text/plain": "                         AMOUNT CURRENCY\ntotal_amount_portfolio      0.0      rub\ntotal_amount_currencies     0.0      rub\ntotal_amount_etf            0.0      rub\ntotal_amount_shares         0.0      rub\ntotal_amount_bonds          0.0      rub\ntotal_amount_futures        0.0      rub\ntotal_amount_options        0.0      rub\ntotal_amount_sp             0.0      rub",
      "text/html": "<div>\n<style scoped>\n    .dataframe tbody tr th:only-of-type {\n        vertical-align: middle;\n    }\n\n    .dataframe tbody tr th {\n        vertical-align: top;\n    }\n\n    .dataframe thead th {\n        text-align: right;\n    }\n</style>\n<table border=\"1\" class=\"dataframe\">\n  <thead>\n    <tr style=\"text-align: right;\">\n      <th></th>\n      <th>AMOUNT</th>\n      <th>CURRENCY</th>\n    </tr>\n  </thead>\n  <tbody>\n    <tr>\n      <th>total_amount_portfolio</th>\n      <td>0.0</td>\n      <td>rub</td>\n    </tr>\n    <tr>\n      <th>total_amount_currencies</th>\n      <td>0.0</td>\n      <td>rub</td>\n    </tr>\n    <tr>\n      <th>total_amount_etf</th>\n      <td>0.0</td>\n      <td>rub</td>\n    </tr>\n    <tr>\n      <th>total_amount_shares</th>\n      <td>0.0</td>\n      <td>rub</td>\n    </tr>\n    <tr>\n      <th>total_amount_bonds</th>\n      <td>0.0</td>\n      <td>rub</td>\n    </tr>\n    <tr>\n      <th>total_amount_futures</th>\n      <td>0.0</td>\n      <td>rub</td>\n    </tr>\n    <tr>\n      <th>total_amount_options</th>\n      <td>0.0</td>\n      <td>rub</td>\n    </tr>\n    <tr>\n      <th>total_amount_sp</th>\n      <td>0.0</td>\n      <td>rub</td>\n    </tr>\n  </tbody>\n</table>\n</div>"
     },
     "execution_count": 82,
     "metadata": {},
     "output_type": "execute_result"
    }
   ],
   "source": [
    "funcs.agg_pflo_totals(acc_token=tok)"
   ],
   "metadata": {
    "collapsed": false,
    "ExecuteTime": {
     "end_time": "2023-08-15T21:49:59.718940Z",
     "start_time": "2023-08-15T21:49:59.517377Z"
    }
   }
  },
  {
   "cell_type": "code",
   "execution_count": 83,
   "outputs": [
    {
     "data": {
      "text/plain": "Empty DataFrame\nColumns: [ticker, name]\nIndex: []",
      "text/html": "<div>\n<style scoped>\n    .dataframe tbody tr th:only-of-type {\n        vertical-align: middle;\n    }\n\n    .dataframe tbody tr th {\n        vertical-align: top;\n    }\n\n    .dataframe thead th {\n        text-align: right;\n    }\n</style>\n<table border=\"1\" class=\"dataframe\">\n  <thead>\n    <tr style=\"text-align: right;\">\n      <th></th>\n      <th>ticker</th>\n      <th>name</th>\n    </tr>\n  </thead>\n  <tbody>\n  </tbody>\n</table>\n</div>"
     },
     "execution_count": 83,
     "metadata": {},
     "output_type": "execute_result"
    }
   ],
   "source": [
    "funcs.agg_pflo_positions(acc_token=tok, mode='short')"
   ],
   "metadata": {
    "collapsed": false,
    "ExecuteTime": {
     "end_time": "2023-08-15T21:49:59.878501Z",
     "start_time": "2023-08-15T21:49:59.714219Z"
    }
   }
  }
 ],
 "metadata": {
  "kernelspec": {
   "display_name": "Python 3",
   "language": "python",
   "name": "python3"
  },
  "language_info": {
   "codemirror_mode": {
    "name": "ipython",
    "version": 2
   },
   "file_extension": ".py",
   "mimetype": "text/x-python",
   "name": "python",
   "nbconvert_exporter": "python",
   "pygments_lexer": "ipython2",
   "version": "2.7.6"
  }
 },
 "nbformat": 4,
 "nbformat_minor": 0
}
