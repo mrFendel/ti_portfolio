{
 "cells": [
  {
   "cell_type": "code",
   "execution_count": 3,
   "metadata": {
    "collapsed": true
   },
   "outputs": [],
   "source": [
    "import creds\n",
    "import portfolio_analytics.funcs as funcs\n",
    "\n",
    "tok = creds.token_ro_all"
   ]
  },
  {
   "cell_type": "code",
   "execution_count": 4,
   "outputs": [
    {
     "data": {
      "text/plain": "           id  type             name  status               opened_date  \\\n0  2022795179     1  Брокерский счёт       2 2020-03-22 00:00:00+00:00   \n1  2092538020     2              ИИС       2 2021-06-23 00:00:00+00:00   \n2  2170779975     1      ALCAP_robot       2 2022-05-04 00:00:00+00:00   \n\n                closed_date  access_level  \n0 1970-01-01 00:00:00+00:00             2  \n1 1970-01-01 00:00:00+00:00             2  \n2 1970-01-01 00:00:00+00:00             2  ",
      "text/html": "<div>\n<style scoped>\n    .dataframe tbody tr th:only-of-type {\n        vertical-align: middle;\n    }\n\n    .dataframe tbody tr th {\n        vertical-align: top;\n    }\n\n    .dataframe thead th {\n        text-align: right;\n    }\n</style>\n<table border=\"1\" class=\"dataframe\">\n  <thead>\n    <tr style=\"text-align: right;\">\n      <th></th>\n      <th>id</th>\n      <th>type</th>\n      <th>name</th>\n      <th>status</th>\n      <th>opened_date</th>\n      <th>closed_date</th>\n      <th>access_level</th>\n    </tr>\n  </thead>\n  <tbody>\n    <tr>\n      <th>0</th>\n      <td>2022795179</td>\n      <td>1</td>\n      <td>Брокерский счёт</td>\n      <td>2</td>\n      <td>2020-03-22 00:00:00+00:00</td>\n      <td>1970-01-01 00:00:00+00:00</td>\n      <td>2</td>\n    </tr>\n    <tr>\n      <th>1</th>\n      <td>2092538020</td>\n      <td>2</td>\n      <td>ИИС</td>\n      <td>2</td>\n      <td>2021-06-23 00:00:00+00:00</td>\n      <td>1970-01-01 00:00:00+00:00</td>\n      <td>2</td>\n    </tr>\n    <tr>\n      <th>2</th>\n      <td>2170779975</td>\n      <td>1</td>\n      <td>ALCAP_robot</td>\n      <td>2</td>\n      <td>2022-05-04 00:00:00+00:00</td>\n      <td>1970-01-01 00:00:00+00:00</td>\n      <td>2</td>\n    </tr>\n  </tbody>\n</table>\n</div>"
     },
     "execution_count": 4,
     "metadata": {},
     "output_type": "execute_result"
    }
   ],
   "source": [
    "funcs.accs_info(tok, to_df=True)"
   ],
   "metadata": {
    "collapsed": false,
    "pycharm": {
     "name": "#%%\n"
    }
   }
  },
  {
   "cell_type": "code",
   "execution_count": 5,
   "outputs": [
    {
     "data": {
      "text/plain": "ticker                                                KWEB\nname                    KraneShares CSI China Internet ETF\nexchange                               dealer_int_exchange\ncountry_of_risk                                         US\ncountry_of_risk_name             Соединенные Штаты Америки\ninstrument_type                                        etf\ndtype: object"
     },
     "execution_count": 5,
     "metadata": {},
     "output_type": "execute_result"
    }
   ],
   "source": [
    "funcs.instrument_info(acc_token=tok, figi='BBG004XB9HY6', short=True)"
   ],
   "metadata": {
    "collapsed": false,
    "pycharm": {
     "name": "#%%\n"
    }
   }
  },
  {
   "cell_type": "code",
   "execution_count": 6,
   "outputs": [
    {
     "data": {
      "text/plain": "                             AMOUNT CURRENCY\ntotal_amount_portfolio   1102981.37      rub\ntotal_amount_currencies   333642.29      rub\ntotal_amount_etf          138949.92      rub\ntotal_amount_shares       630389.16      rub\ntotal_amount_bonds             0.00      rub\ntotal_amount_futures           0.00      rub\ntotal_amount_options           0.00      rub\ntotal_amount_sp                0.00      rub",
      "text/html": "<div>\n<style scoped>\n    .dataframe tbody tr th:only-of-type {\n        vertical-align: middle;\n    }\n\n    .dataframe tbody tr th {\n        vertical-align: top;\n    }\n\n    .dataframe thead th {\n        text-align: right;\n    }\n</style>\n<table border=\"1\" class=\"dataframe\">\n  <thead>\n    <tr style=\"text-align: right;\">\n      <th></th>\n      <th>AMOUNT</th>\n      <th>CURRENCY</th>\n    </tr>\n  </thead>\n  <tbody>\n    <tr>\n      <th>total_amount_portfolio</th>\n      <td>1102981.37</td>\n      <td>rub</td>\n    </tr>\n    <tr>\n      <th>total_amount_currencies</th>\n      <td>333642.29</td>\n      <td>rub</td>\n    </tr>\n    <tr>\n      <th>total_amount_etf</th>\n      <td>138949.92</td>\n      <td>rub</td>\n    </tr>\n    <tr>\n      <th>total_amount_shares</th>\n      <td>630389.16</td>\n      <td>rub</td>\n    </tr>\n    <tr>\n      <th>total_amount_bonds</th>\n      <td>0.00</td>\n      <td>rub</td>\n    </tr>\n    <tr>\n      <th>total_amount_futures</th>\n      <td>0.00</td>\n      <td>rub</td>\n    </tr>\n    <tr>\n      <th>total_amount_options</th>\n      <td>0.00</td>\n      <td>rub</td>\n    </tr>\n    <tr>\n      <th>total_amount_sp</th>\n      <td>0.00</td>\n      <td>rub</td>\n    </tr>\n  </tbody>\n</table>\n</div>"
     },
     "execution_count": 6,
     "metadata": {},
     "output_type": "execute_result"
    }
   ],
   "source": [
    "funcs.agg_pflo_totals(acc_token=tok)"
   ],
   "metadata": {
    "collapsed": false,
    "pycharm": {
     "name": "#%%\n"
    }
   }
  },
  {
   "cell_type": "code",
   "execution_count": 8,
   "outputs": [
    {
     "data": {
      "text/plain": "          ticker                                name          figi  quantity  \\\n0           KWEB  KraneShares CSI China Internet ETF  BBG004XB9HY6      59.0   \n1           CRSP              CRISPR Therapeutics AG  BBG00DBBGRX1       1.0   \n2           TROW                  T Rowe Price Group  BBG000BVMPN3       1.0   \n3   US48581R2058                    ГДР Kaspi.kz JSC  US48581R2058       2.0   \n4           PYPL                     PayPal Holdings  BBG0077VNXV6       1.0   \n..           ...                                 ...           ...       ...   \n67          EVER                           EverQuote  BBG00F17NDH7       4.0   \n68         TATNP  Татнефть - привилегированные акции  BBG004S68829      37.0   \n69          9888                               Baidu  BBG00ZMFX1S5      10.0   \n70          CHMF                          Северсталь  BBG00475K6C3      17.0   \n71          ROSN                            Роснефть  BBG004731354      42.0   \n\n    average_position_price  current_price currency  \n0                    53.24          32.02      usd  \n1                   122.17          49.78      usd  \n2                   153.00         117.62      usd  \n3                     0.00          59.00      usd  \n4                   109.42          80.85      usd  \n..                     ...            ...      ...  \n67                   25.23          15.90      usd  \n68                  333.30         323.70      rub  \n69                  133.10         145.00      hkd  \n70                 1017.60        1019.80      rub  \n71                  332.40         351.25      rub  \n\n[72 rows x 7 columns]",
      "text/html": "<div>\n<style scoped>\n    .dataframe tbody tr th:only-of-type {\n        vertical-align: middle;\n    }\n\n    .dataframe tbody tr th {\n        vertical-align: top;\n    }\n\n    .dataframe thead th {\n        text-align: right;\n    }\n</style>\n<table border=\"1\" class=\"dataframe\">\n  <thead>\n    <tr style=\"text-align: right;\">\n      <th></th>\n      <th>ticker</th>\n      <th>name</th>\n      <th>figi</th>\n      <th>quantity</th>\n      <th>average_position_price</th>\n      <th>current_price</th>\n      <th>currency</th>\n    </tr>\n  </thead>\n  <tbody>\n    <tr>\n      <th>0</th>\n      <td>KWEB</td>\n      <td>KraneShares CSI China Internet ETF</td>\n      <td>BBG004XB9HY6</td>\n      <td>59.0</td>\n      <td>53.24</td>\n      <td>32.02</td>\n      <td>usd</td>\n    </tr>\n    <tr>\n      <th>1</th>\n      <td>CRSP</td>\n      <td>CRISPR Therapeutics AG</td>\n      <td>BBG00DBBGRX1</td>\n      <td>1.0</td>\n      <td>122.17</td>\n      <td>49.78</td>\n      <td>usd</td>\n    </tr>\n    <tr>\n      <th>2</th>\n      <td>TROW</td>\n      <td>T Rowe Price Group</td>\n      <td>BBG000BVMPN3</td>\n      <td>1.0</td>\n      <td>153.00</td>\n      <td>117.62</td>\n      <td>usd</td>\n    </tr>\n    <tr>\n      <th>3</th>\n      <td>US48581R2058</td>\n      <td>ГДР Kaspi.kz JSC</td>\n      <td>US48581R2058</td>\n      <td>2.0</td>\n      <td>0.00</td>\n      <td>59.00</td>\n      <td>usd</td>\n    </tr>\n    <tr>\n      <th>4</th>\n      <td>PYPL</td>\n      <td>PayPal Holdings</td>\n      <td>BBG0077VNXV6</td>\n      <td>1.0</td>\n      <td>109.42</td>\n      <td>80.85</td>\n      <td>usd</td>\n    </tr>\n    <tr>\n      <th>...</th>\n      <td>...</td>\n      <td>...</td>\n      <td>...</td>\n      <td>...</td>\n      <td>...</td>\n      <td>...</td>\n      <td>...</td>\n    </tr>\n    <tr>\n      <th>67</th>\n      <td>EVER</td>\n      <td>EverQuote</td>\n      <td>BBG00F17NDH7</td>\n      <td>4.0</td>\n      <td>25.23</td>\n      <td>15.90</td>\n      <td>usd</td>\n    </tr>\n    <tr>\n      <th>68</th>\n      <td>TATNP</td>\n      <td>Татнефть - привилегированные акции</td>\n      <td>BBG004S68829</td>\n      <td>37.0</td>\n      <td>333.30</td>\n      <td>323.70</td>\n      <td>rub</td>\n    </tr>\n    <tr>\n      <th>69</th>\n      <td>9888</td>\n      <td>Baidu</td>\n      <td>BBG00ZMFX1S5</td>\n      <td>10.0</td>\n      <td>133.10</td>\n      <td>145.00</td>\n      <td>hkd</td>\n    </tr>\n    <tr>\n      <th>70</th>\n      <td>CHMF</td>\n      <td>Северсталь</td>\n      <td>BBG00475K6C3</td>\n      <td>17.0</td>\n      <td>1017.60</td>\n      <td>1019.80</td>\n      <td>rub</td>\n    </tr>\n    <tr>\n      <th>71</th>\n      <td>ROSN</td>\n      <td>Роснефть</td>\n      <td>BBG004731354</td>\n      <td>42.0</td>\n      <td>332.40</td>\n      <td>351.25</td>\n      <td>rub</td>\n    </tr>\n  </tbody>\n</table>\n<p>72 rows × 7 columns</p>\n</div>"
     },
     "execution_count": 8,
     "metadata": {},
     "output_type": "execute_result"
    }
   ],
   "source": [
    "funcs.agg_pflo_positions(acc_token=tok, mode='short')"
   ],
   "metadata": {
    "collapsed": false,
    "pycharm": {
     "name": "#%%\n"
    }
   }
  }
 ],
 "metadata": {
  "kernelspec": {
   "display_name": "Python 3",
   "language": "python",
   "name": "python3"
  },
  "language_info": {
   "codemirror_mode": {
    "name": "ipython",
    "version": 2
   },
   "file_extension": ".py",
   "mimetype": "text/x-python",
   "name": "python",
   "nbconvert_exporter": "python",
   "pygments_lexer": "ipython2",
   "version": "2.7.6"
  }
 },
 "nbformat": 4,
 "nbformat_minor": 0
}