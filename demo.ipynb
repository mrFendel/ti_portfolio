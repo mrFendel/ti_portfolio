{
 "cells": [
  {
   "cell_type": "code",
   "execution_count": 1,
   "metadata": {
    "collapsed": true
   },
   "outputs": [],
   "source": [
    "import creds\n",
    "import portfolio_analytics.funcs as funcs"
   ]
  },
  {
   "cell_type": "code",
   "execution_count": 5,
   "outputs": [
    {
     "data": {
      "text/plain": "GetAccountsResponse(accounts=[Account(id='2022795179', type=<AccountType.ACCOUNT_TYPE_TINKOFF: 1>, name='Брокерский счёт', status=<AccountStatus.ACCOUNT_STATUS_OPEN: 2>, opened_date=datetime.datetime(2020, 3, 22, 0, 0, tzinfo=datetime.timezone.utc), closed_date=datetime.datetime(1970, 1, 1, 0, 0, tzinfo=datetime.timezone.utc), access_level=<AccessLevel.ACCOUNT_ACCESS_LEVEL_READ_ONLY: 2>), Account(id='2092538020', type=<AccountType.ACCOUNT_TYPE_TINKOFF_IIS: 2>, name='ИИС', status=<AccountStatus.ACCOUNT_STATUS_OPEN: 2>, opened_date=datetime.datetime(2021, 6, 23, 0, 0, tzinfo=datetime.timezone.utc), closed_date=datetime.datetime(1970, 1, 1, 0, 0, tzinfo=datetime.timezone.utc), access_level=<AccessLevel.ACCOUNT_ACCESS_LEVEL_READ_ONLY: 2>), Account(id='2170779975', type=<AccountType.ACCOUNT_TYPE_TINKOFF: 1>, name='ALCAP_robot', status=<AccountStatus.ACCOUNT_STATUS_OPEN: 2>, opened_date=datetime.datetime(2022, 5, 4, 0, 0, tzinfo=datetime.timezone.utc), closed_date=datetime.datetime(1970, 1, 1, 0, 0, tzinfo=datetime.timezone.utc), access_level=<AccessLevel.ACCOUNT_ACCESS_LEVEL_READ_ONLY: 2>)])"
     },
     "execution_count": 5,
     "metadata": {},
     "output_type": "execute_result"
    }
   ],
   "source": [
    "funcs.accs_info(creds.token_ro_all)"
   ],
   "metadata": {
    "collapsed": false,
    "pycharm": {
     "name": "#%%\n"
    }
   }
  },
  {
   "cell_type": "code",
   "execution_count": 3,
   "outputs": [
    {
     "data": {
      "text/plain": "                            AMOUNT CURRENCY\ntotal_amount_portfolio   170909.49      rub\ntotal_amount_currencies    2133.36      rub\ntotal_amount_etf         139393.67      rub\ntotal_amount_shares       29382.46      rub\ntotal_amount_bonds            0.00      rub\ntotal_amount_futures          0.00      rub\ntotal_amount_options          0.00      rub\ntotal_amount_sp               0.00      rub",
      "text/html": "<div>\n<style scoped>\n    .dataframe tbody tr th:only-of-type {\n        vertical-align: middle;\n    }\n\n    .dataframe tbody tr th {\n        vertical-align: top;\n    }\n\n    .dataframe thead th {\n        text-align: right;\n    }\n</style>\n<table border=\"1\" class=\"dataframe\">\n  <thead>\n    <tr style=\"text-align: right;\">\n      <th></th>\n      <th>AMOUNT</th>\n      <th>CURRENCY</th>\n    </tr>\n  </thead>\n  <tbody>\n    <tr>\n      <th>total_amount_portfolio</th>\n      <td>170909.49</td>\n      <td>rub</td>\n    </tr>\n    <tr>\n      <th>total_amount_currencies</th>\n      <td>2133.36</td>\n      <td>rub</td>\n    </tr>\n    <tr>\n      <th>total_amount_etf</th>\n      <td>139393.67</td>\n      <td>rub</td>\n    </tr>\n    <tr>\n      <th>total_amount_shares</th>\n      <td>29382.46</td>\n      <td>rub</td>\n    </tr>\n    <tr>\n      <th>total_amount_bonds</th>\n      <td>0.00</td>\n      <td>rub</td>\n    </tr>\n    <tr>\n      <th>total_amount_futures</th>\n      <td>0.00</td>\n      <td>rub</td>\n    </tr>\n    <tr>\n      <th>total_amount_options</th>\n      <td>0.00</td>\n      <td>rub</td>\n    </tr>\n    <tr>\n      <th>total_amount_sp</th>\n      <td>0.00</td>\n      <td>rub</td>\n    </tr>\n  </tbody>\n</table>\n</div>"
     },
     "execution_count": 3,
     "metadata": {},
     "output_type": "execute_result"
    }
   ],
   "source": [
    "totals, pct = funcs.pflo_totals(acc_token=creds.token_ro_all, id=creds.acc_id)\n",
    "totals"
   ],
   "metadata": {
    "collapsed": false,
    "pycharm": {
     "name": "#%%\n"
    }
   }
  },
  {
   "cell_type": "code",
   "execution_count": 4,
   "outputs": [
    {
     "data": {
      "text/plain": "   ticker                                name          figi instrument_type  \\\n0    LKOH                              ЛУКОЙЛ  BBG004731032           share   \n1    NVTK                             НОВАТЭК  BBG00475KKY8           share   \n2    PLZL                               Полюс  BBG000R607Y3           share   \n3    YNDX                              Yandex  BBG006L8G4H1           share   \n4    QIWI                                QIWI  BBG005D1WCQ1           share   \n..    ...                                 ...           ...             ...   \n56   EVER                           EverQuote  BBG00F17NDH7           share   \n57  TATNP  Татнефть - привилегированные акции  BBG004S68829           share   \n58   9888                               Baidu  BBG00ZMFX1S5           share   \n59   CHMF                          Северсталь  BBG00475K6C3           share   \n60   ROSN                            Роснефть  BBG004731354           share   \n\n    quantity  average_position_price  expected_yield  current_nkd  \\\n0        4.0                 4500.00        -2207.00          0.0   \n1       13.0                 1094.20         -219.20          0.0   \n2        3.0                 8690.00         1257.50          0.0   \n3       10.0                 1942.80         1050.20          0.0   \n4        8.0                  440.50          308.00          0.0   \n..       ...                     ...             ...          ...   \n56       4.0                   25.23          -37.35          0.0   \n57      37.0                  333.30         -808.60          0.0   \n58      10.0                  133.10          123.00          0.0   \n59      17.0                 1017.60           89.20          0.0   \n60      42.0                  332.40          774.50          0.0   \n\n    average_position_price_pt  current_price  average_position_price_fifo  \\\n0                         0.0        3933.50                      4485.50   \n1                         0.0        1077.40                      1094.20   \n2                         0.0        9109.00                      8690.00   \n3                         0.0        2047.80                      1942.80   \n4                         0.0         479.00                       440.50   \n..                        ...            ...                          ...   \n56                        0.0          15.89                        25.23   \n57                        0.0         323.60                       345.50   \n58                        0.0         145.40                       133.10   \n59                        0.0        1022.80                      1017.60   \n60                        0.0         350.85                       332.40   \n\n    quantity_lots  blocked                          position_uid  \\\n0             4.0    False  3213e01a-7bce-4946-b01e-5b0aaa3fc9b4   \n1            13.0    False  e9aa66a5-573d-4b96-9ebc-7c4c3d520e44   \n2             3.0    False  cfa0ac6c-7cc5-47f0-9486-9a5073a55313   \n3            10.0    False  cb51e157-1f73-4c62-baac-93f11755056a   \n4             8.0    False  2f317f60-7232-4ef3-9cb2-f2a217469f56   \n..            ...      ...                                   ...   \n56            4.0    False  25f11a6a-9796-4a04-823e-75f138df739d   \n57           37.0    False  25d48d77-b2bc-4617-ba87-eeaa06f2cf2c   \n58            1.0    False  720888cc-13e7-4af0-91d8-3e2c12b817ed   \n59           17.0    False  50aac9d1-b53b-4d96-934e-941fe78e38aa   \n60           42.0    False  0a0acc65-84db-4ffc-b359-faa00de99d41   \n\n                          instrument_uid  var_margin  expected_yield_fifo  \\\n0   02cfdf61-6298-4c0f-a9ca-9cabc82afaf3         0.0             -2207.00   \n1   0da66728-6c30-44c4-9264-df8fac2467ee         0.0              -219.20   \n2   10620843-28ce-44e8-80c2-f26ceb1bd3e1         0.0              1257.50   \n3   10e17a87-3bce-4a1f-9dfc-720396f98a3c         0.0              1050.20   \n4   120a928b-b2d6-45d7-a445-f6e49614ae6d         0.0               308.00   \n..                                   ...         ...                  ...   \n56  ef15867b-d6f1-4a0a-8f03-a3c16179664c         0.0               -37.35   \n57  efdb54d3-2f92-44da-b7a3-8849e96039f6         0.0              -808.60   \n58  f295277c-fb3a-4a47-b942-93451319fdd5         0.0               123.00   \n59  fa6aae10-b8d5-48c8-bbfd-d320d925d096         0.0                89.20   \n60  fd417230-19cf-4e7b-9623-f7c9ca18ec6b         0.0               774.50   \n\n   currency  \n0       rub  \n1       rub  \n2       rub  \n3       rub  \n4       rub  \n..      ...  \n56      usd  \n57      rub  \n58      hkd  \n59      rub  \n60      rub  \n\n[61 rows x 18 columns]",
      "text/html": "<div>\n<style scoped>\n    .dataframe tbody tr th:only-of-type {\n        vertical-align: middle;\n    }\n\n    .dataframe tbody tr th {\n        vertical-align: top;\n    }\n\n    .dataframe thead th {\n        text-align: right;\n    }\n</style>\n<table border=\"1\" class=\"dataframe\">\n  <thead>\n    <tr style=\"text-align: right;\">\n      <th></th>\n      <th>ticker</th>\n      <th>name</th>\n      <th>figi</th>\n      <th>instrument_type</th>\n      <th>quantity</th>\n      <th>average_position_price</th>\n      <th>expected_yield</th>\n      <th>current_nkd</th>\n      <th>average_position_price_pt</th>\n      <th>current_price</th>\n      <th>average_position_price_fifo</th>\n      <th>quantity_lots</th>\n      <th>blocked</th>\n      <th>position_uid</th>\n      <th>instrument_uid</th>\n      <th>var_margin</th>\n      <th>expected_yield_fifo</th>\n      <th>currency</th>\n    </tr>\n  </thead>\n  <tbody>\n    <tr>\n      <th>0</th>\n      <td>LKOH</td>\n      <td>ЛУКОЙЛ</td>\n      <td>BBG004731032</td>\n      <td>share</td>\n      <td>4.0</td>\n      <td>4500.00</td>\n      <td>-2207.00</td>\n      <td>0.0</td>\n      <td>0.0</td>\n      <td>3933.50</td>\n      <td>4485.50</td>\n      <td>4.0</td>\n      <td>False</td>\n      <td>3213e01a-7bce-4946-b01e-5b0aaa3fc9b4</td>\n      <td>02cfdf61-6298-4c0f-a9ca-9cabc82afaf3</td>\n      <td>0.0</td>\n      <td>-2207.00</td>\n      <td>rub</td>\n    </tr>\n    <tr>\n      <th>1</th>\n      <td>NVTK</td>\n      <td>НОВАТЭК</td>\n      <td>BBG00475KKY8</td>\n      <td>share</td>\n      <td>13.0</td>\n      <td>1094.20</td>\n      <td>-219.20</td>\n      <td>0.0</td>\n      <td>0.0</td>\n      <td>1077.40</td>\n      <td>1094.20</td>\n      <td>13.0</td>\n      <td>False</td>\n      <td>e9aa66a5-573d-4b96-9ebc-7c4c3d520e44</td>\n      <td>0da66728-6c30-44c4-9264-df8fac2467ee</td>\n      <td>0.0</td>\n      <td>-219.20</td>\n      <td>rub</td>\n    </tr>\n    <tr>\n      <th>2</th>\n      <td>PLZL</td>\n      <td>Полюс</td>\n      <td>BBG000R607Y3</td>\n      <td>share</td>\n      <td>3.0</td>\n      <td>8690.00</td>\n      <td>1257.50</td>\n      <td>0.0</td>\n      <td>0.0</td>\n      <td>9109.00</td>\n      <td>8690.00</td>\n      <td>3.0</td>\n      <td>False</td>\n      <td>cfa0ac6c-7cc5-47f0-9486-9a5073a55313</td>\n      <td>10620843-28ce-44e8-80c2-f26ceb1bd3e1</td>\n      <td>0.0</td>\n      <td>1257.50</td>\n      <td>rub</td>\n    </tr>\n    <tr>\n      <th>3</th>\n      <td>YNDX</td>\n      <td>Yandex</td>\n      <td>BBG006L8G4H1</td>\n      <td>share</td>\n      <td>10.0</td>\n      <td>1942.80</td>\n      <td>1050.20</td>\n      <td>0.0</td>\n      <td>0.0</td>\n      <td>2047.80</td>\n      <td>1942.80</td>\n      <td>10.0</td>\n      <td>False</td>\n      <td>cb51e157-1f73-4c62-baac-93f11755056a</td>\n      <td>10e17a87-3bce-4a1f-9dfc-720396f98a3c</td>\n      <td>0.0</td>\n      <td>1050.20</td>\n      <td>rub</td>\n    </tr>\n    <tr>\n      <th>4</th>\n      <td>QIWI</td>\n      <td>QIWI</td>\n      <td>BBG005D1WCQ1</td>\n      <td>share</td>\n      <td>8.0</td>\n      <td>440.50</td>\n      <td>308.00</td>\n      <td>0.0</td>\n      <td>0.0</td>\n      <td>479.00</td>\n      <td>440.50</td>\n      <td>8.0</td>\n      <td>False</td>\n      <td>2f317f60-7232-4ef3-9cb2-f2a217469f56</td>\n      <td>120a928b-b2d6-45d7-a445-f6e49614ae6d</td>\n      <td>0.0</td>\n      <td>308.00</td>\n      <td>rub</td>\n    </tr>\n    <tr>\n      <th>...</th>\n      <td>...</td>\n      <td>...</td>\n      <td>...</td>\n      <td>...</td>\n      <td>...</td>\n      <td>...</td>\n      <td>...</td>\n      <td>...</td>\n      <td>...</td>\n      <td>...</td>\n      <td>...</td>\n      <td>...</td>\n      <td>...</td>\n      <td>...</td>\n      <td>...</td>\n      <td>...</td>\n      <td>...</td>\n      <td>...</td>\n    </tr>\n    <tr>\n      <th>56</th>\n      <td>EVER</td>\n      <td>EverQuote</td>\n      <td>BBG00F17NDH7</td>\n      <td>share</td>\n      <td>4.0</td>\n      <td>25.23</td>\n      <td>-37.35</td>\n      <td>0.0</td>\n      <td>0.0</td>\n      <td>15.89</td>\n      <td>25.23</td>\n      <td>4.0</td>\n      <td>False</td>\n      <td>25f11a6a-9796-4a04-823e-75f138df739d</td>\n      <td>ef15867b-d6f1-4a0a-8f03-a3c16179664c</td>\n      <td>0.0</td>\n      <td>-37.35</td>\n      <td>usd</td>\n    </tr>\n    <tr>\n      <th>57</th>\n      <td>TATNP</td>\n      <td>Татнефть - привилегированные акции</td>\n      <td>BBG004S68829</td>\n      <td>share</td>\n      <td>37.0</td>\n      <td>333.30</td>\n      <td>-808.60</td>\n      <td>0.0</td>\n      <td>0.0</td>\n      <td>323.60</td>\n      <td>345.50</td>\n      <td>37.0</td>\n      <td>False</td>\n      <td>25d48d77-b2bc-4617-ba87-eeaa06f2cf2c</td>\n      <td>efdb54d3-2f92-44da-b7a3-8849e96039f6</td>\n      <td>0.0</td>\n      <td>-808.60</td>\n      <td>rub</td>\n    </tr>\n    <tr>\n      <th>58</th>\n      <td>9888</td>\n      <td>Baidu</td>\n      <td>BBG00ZMFX1S5</td>\n      <td>share</td>\n      <td>10.0</td>\n      <td>133.10</td>\n      <td>123.00</td>\n      <td>0.0</td>\n      <td>0.0</td>\n      <td>145.40</td>\n      <td>133.10</td>\n      <td>1.0</td>\n      <td>False</td>\n      <td>720888cc-13e7-4af0-91d8-3e2c12b817ed</td>\n      <td>f295277c-fb3a-4a47-b942-93451319fdd5</td>\n      <td>0.0</td>\n      <td>123.00</td>\n      <td>hkd</td>\n    </tr>\n    <tr>\n      <th>59</th>\n      <td>CHMF</td>\n      <td>Северсталь</td>\n      <td>BBG00475K6C3</td>\n      <td>share</td>\n      <td>17.0</td>\n      <td>1017.60</td>\n      <td>89.20</td>\n      <td>0.0</td>\n      <td>0.0</td>\n      <td>1022.80</td>\n      <td>1017.60</td>\n      <td>17.0</td>\n      <td>False</td>\n      <td>50aac9d1-b53b-4d96-934e-941fe78e38aa</td>\n      <td>fa6aae10-b8d5-48c8-bbfd-d320d925d096</td>\n      <td>0.0</td>\n      <td>89.20</td>\n      <td>rub</td>\n    </tr>\n    <tr>\n      <th>60</th>\n      <td>ROSN</td>\n      <td>Роснефть</td>\n      <td>BBG004731354</td>\n      <td>share</td>\n      <td>42.0</td>\n      <td>332.40</td>\n      <td>774.50</td>\n      <td>0.0</td>\n      <td>0.0</td>\n      <td>350.85</td>\n      <td>332.40</td>\n      <td>42.0</td>\n      <td>False</td>\n      <td>0a0acc65-84db-4ffc-b359-faa00de99d41</td>\n      <td>fd417230-19cf-4e7b-9623-f7c9ca18ec6b</td>\n      <td>0.0</td>\n      <td>774.50</td>\n      <td>rub</td>\n    </tr>\n  </tbody>\n</table>\n<p>61 rows × 18 columns</p>\n</div>"
     },
     "execution_count": 4,
     "metadata": {},
     "output_type": "execute_result"
    }
   ],
   "source": [
    "funcs.pflo_positions(acc_token=creds.token_ro_all, id=creds.iis_id, mode='long')"
   ],
   "metadata": {
    "collapsed": false,
    "pycharm": {
     "name": "#%%\n"
    }
   }
  }
 ],
 "metadata": {
  "kernelspec": {
   "display_name": "Python 3",
   "language": "python",
   "name": "python3"
  },
  "language_info": {
   "codemirror_mode": {
    "name": "ipython",
    "version": 2
   },
   "file_extension": ".py",
   "mimetype": "text/x-python",
   "name": "python",
   "nbconvert_exporter": "python",
   "pygments_lexer": "ipython2",
   "version": "2.7.6"
  }
 },
 "nbformat": 4,
 "nbformat_minor": 0
}