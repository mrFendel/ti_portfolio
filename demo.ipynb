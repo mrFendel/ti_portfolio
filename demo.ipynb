{
 "cells": [
  {
   "cell_type": "code",
   "execution_count": 1,
   "metadata": {
    "collapsed": true
   },
   "outputs": [],
   "source": [
    "import creds\n",
    "import portfolio_analytics.funcs as funcs\n",
    "\n",
    "tok = creds.token_ro_all"
   ]
  },
  {
   "cell_type": "code",
   "execution_count": null,
   "outputs": [],
   "source": [
    "funcs.accs_info(tok, to_df=True)"
   ],
   "metadata": {
    "collapsed": false,
    "pycharm": {
     "name": "#%%\n"
    }
   }
  },
  {
   "cell_type": "code",
   "execution_count": 3,
   "outputs": [
    {
     "data": {
      "text/plain": "ticker                                                KWEB\nname                    KraneShares CSI China Internet ETF\nexchange                               dealer_int_exchange\ncountry_of_risk                                         US\ncountry_of_risk_name             Соединенные Штаты Америки\ninstrument_type                                        etf\ndtype: object"
     },
     "execution_count": 3,
     "metadata": {},
     "output_type": "execute_result"
    }
   ],
   "source": [
    "funcs.instrument_info(acc_token=tok, figi='BBG004XB9HY6', short=True)"
   ],
   "metadata": {
    "collapsed": false,
    "pycharm": {
     "name": "#%%\n"
    }
   }
  },
  {
   "cell_type": "code",
   "execution_count": 7,
   "outputs": [
    {
     "data": {
      "text/plain": "                             AMOUNT CURRENCY\ntotal_amount_portfolio   1102756.80      rub\ntotal_amount_currencies   333642.29      rub\ntotal_amount_etf          138949.92      rub\ntotal_amount_shares       630164.59      rub\ntotal_amount_bonds             0.00      rub\ntotal_amount_futures           0.00      rub\ntotal_amount_options           0.00      rub\ntotal_amount_sp                0.00      rub",
      "text/html": "<div>\n<style scoped>\n    .dataframe tbody tr th:only-of-type {\n        vertical-align: middle;\n    }\n\n    .dataframe tbody tr th {\n        vertical-align: top;\n    }\n\n    .dataframe thead th {\n        text-align: right;\n    }\n</style>\n<table border=\"1\" class=\"dataframe\">\n  <thead>\n    <tr style=\"text-align: right;\">\n      <th></th>\n      <th>AMOUNT</th>\n      <th>CURRENCY</th>\n    </tr>\n  </thead>\n  <tbody>\n    <tr>\n      <th>total_amount_portfolio</th>\n      <td>1102756.80</td>\n      <td>rub</td>\n    </tr>\n    <tr>\n      <th>total_amount_currencies</th>\n      <td>333642.29</td>\n      <td>rub</td>\n    </tr>\n    <tr>\n      <th>total_amount_etf</th>\n      <td>138949.92</td>\n      <td>rub</td>\n    </tr>\n    <tr>\n      <th>total_amount_shares</th>\n      <td>630164.59</td>\n      <td>rub</td>\n    </tr>\n    <tr>\n      <th>total_amount_bonds</th>\n      <td>0.00</td>\n      <td>rub</td>\n    </tr>\n    <tr>\n      <th>total_amount_futures</th>\n      <td>0.00</td>\n      <td>rub</td>\n    </tr>\n    <tr>\n      <th>total_amount_options</th>\n      <td>0.00</td>\n      <td>rub</td>\n    </tr>\n    <tr>\n      <th>total_amount_sp</th>\n      <td>0.00</td>\n      <td>rub</td>\n    </tr>\n  </tbody>\n</table>\n</div>"
     },
     "execution_count": 7,
     "metadata": {},
     "output_type": "execute_result"
    }
   ],
   "source": [
    "funcs.agg_pflo_totals(acc_token=tok)"
   ],
   "metadata": {
    "collapsed": false,
    "pycharm": {
     "name": "#%%\n"
    }
   }
  },
  {
   "cell_type": "code",
   "execution_count": 8,
   "outputs": [
    {
     "data": {
      "text/plain": "          ticker                                name          figi  \\\n0           KWEB  KraneShares CSI China Internet ETF  BBG004XB9HY6   \n1           CRSP              CRISPR Therapeutics AG  BBG00DBBGRX1   \n2           TROW                  T Rowe Price Group  BBG000BVMPN3   \n3   US48581R2058                    ГДР Kaspi.kz JSC  US48581R2058   \n4           PYPL                     PayPal Holdings  BBG0077VNXV6   \n..           ...                                 ...           ...   \n67          EVER                           EverQuote  BBG00F17NDH7   \n68         TATNP  Татнефть - привилегированные акции  BBG004S68829   \n69          9888                               Baidu  BBG00ZMFX1S5   \n70          CHMF                          Северсталь  BBG00475K6C3   \n71          ROSN                            Роснефть  BBG004731354   \n\n   instrument_type  quantity  average_position_price  expected_yield  \\\n0              etf      59.0                   53.24        -1252.16   \n1            share       1.0                  122.17          -72.86   \n2            share       1.0                  153.00          -36.29   \n3            share       2.0                    0.00            0.00   \n4            share       1.0                  109.42          -28.98   \n..             ...       ...                     ...             ...   \n67           share       4.0                   25.23          -37.19   \n68           share      37.0                  333.30         -804.90   \n69           share      10.0                  133.10          119.00   \n70           share      17.0                 1017.60           28.00   \n71           share      42.0                  332.40          778.70   \n\n    current_nkd  average_position_price_pt  current_price  \\\n0           0.0                        0.0          32.02   \n1           0.0                        0.0          49.46   \n2           0.0                        0.0         116.71   \n3           0.0                        0.0          59.00   \n4           0.0                        0.0          80.44   \n..          ...                        ...            ...   \n67          0.0                        0.0          15.93   \n68          0.0                        0.0         323.70   \n69          0.0                        0.0         145.00   \n70          0.0                        0.0        1019.20   \n71          0.0                        0.0         350.95   \n\n    average_position_price_fifo  quantity_lots blocked  \\\n0                         53.24           59.0   False   \n1                        122.32            1.0   False   \n2                        153.00            1.0   False   \n3                          0.00            2.0    True   \n4                        109.42            1.0   False   \n..                          ...            ...     ...   \n67                        25.23            4.0   False   \n68                       345.50           37.0   False   \n69                       133.10            1.0   False   \n70                      1017.60           17.0   False   \n71                       332.40           42.0   False   \n\n                            position_uid  \\\n0   846166b2-33f7-4d10-9d03-b2a44b2b33d5   \n1   df407977-ee35-46e0-b20d-d2e0b4e066b8   \n2   0bd6fd2b-c76d-4d10-b1b0-7b3085b2309e   \n3   b5309758-43a0-4eb5-8d42-4da8b77f7c06   \n4   61d4bd84-a421-4738-9a53-719f6afc86cc   \n..                                   ...   \n67  25f11a6a-9796-4a04-823e-75f138df739d   \n68  25d48d77-b2bc-4617-ba87-eeaa06f2cf2c   \n69  720888cc-13e7-4af0-91d8-3e2c12b817ed   \n70  50aac9d1-b53b-4d96-934e-941fe78e38aa   \n71  0a0acc65-84db-4ffc-b359-faa00de99d41   \n\n                          instrument_uid  var_margin  expected_yield_fifo  \\\n0   0fd7cc29-8c14-42d0-8910-671059b7b8c1         0.0             -1252.16   \n1   236c35ea-f0a2-49e9-ae6d-542c8fa9ed98         0.0               -72.86   \n2   2d0b85fd-f729-44de-9937-d435e45232c6         0.0               -36.29   \n3   3580d397-5710-4dff-8a0a-f81d6d73dad8         0.0                 0.00   \n4   402bb116-e10c-4bcf-90c7-d80a244ae8f6         0.0               -28.98   \n..                                   ...         ...                  ...   \n67  ef15867b-d6f1-4a0a-8f03-a3c16179664c         0.0               -37.19   \n68  efdb54d3-2f92-44da-b7a3-8849e96039f6         0.0              -804.90   \n69  f295277c-fb3a-4a47-b942-93451319fdd5         0.0               119.00   \n70  fa6aae10-b8d5-48c8-bbfd-d320d925d096         0.0                28.00   \n71  fd417230-19cf-4e7b-9623-f7c9ca18ec6b         0.0               778.70   \n\n   currency  \n0       usd  \n1       usd  \n2       usd  \n3       usd  \n4       usd  \n..      ...  \n67      usd  \n68      rub  \n69      hkd  \n70      rub  \n71      rub  \n\n[72 rows x 18 columns]",
      "text/html": "<div>\n<style scoped>\n    .dataframe tbody tr th:only-of-type {\n        vertical-align: middle;\n    }\n\n    .dataframe tbody tr th {\n        vertical-align: top;\n    }\n\n    .dataframe thead th {\n        text-align: right;\n    }\n</style>\n<table border=\"1\" class=\"dataframe\">\n  <thead>\n    <tr style=\"text-align: right;\">\n      <th></th>\n      <th>ticker</th>\n      <th>name</th>\n      <th>figi</th>\n      <th>instrument_type</th>\n      <th>quantity</th>\n      <th>average_position_price</th>\n      <th>expected_yield</th>\n      <th>current_nkd</th>\n      <th>average_position_price_pt</th>\n      <th>current_price</th>\n      <th>average_position_price_fifo</th>\n      <th>quantity_lots</th>\n      <th>blocked</th>\n      <th>position_uid</th>\n      <th>instrument_uid</th>\n      <th>var_margin</th>\n      <th>expected_yield_fifo</th>\n      <th>currency</th>\n    </tr>\n  </thead>\n  <tbody>\n    <tr>\n      <th>0</th>\n      <td>KWEB</td>\n      <td>KraneShares CSI China Internet ETF</td>\n      <td>BBG004XB9HY6</td>\n      <td>etf</td>\n      <td>59.0</td>\n      <td>53.24</td>\n      <td>-1252.16</td>\n      <td>0.0</td>\n      <td>0.0</td>\n      <td>32.02</td>\n      <td>53.24</td>\n      <td>59.0</td>\n      <td>False</td>\n      <td>846166b2-33f7-4d10-9d03-b2a44b2b33d5</td>\n      <td>0fd7cc29-8c14-42d0-8910-671059b7b8c1</td>\n      <td>0.0</td>\n      <td>-1252.16</td>\n      <td>usd</td>\n    </tr>\n    <tr>\n      <th>1</th>\n      <td>CRSP</td>\n      <td>CRISPR Therapeutics AG</td>\n      <td>BBG00DBBGRX1</td>\n      <td>share</td>\n      <td>1.0</td>\n      <td>122.17</td>\n      <td>-72.86</td>\n      <td>0.0</td>\n      <td>0.0</td>\n      <td>49.46</td>\n      <td>122.32</td>\n      <td>1.0</td>\n      <td>False</td>\n      <td>df407977-ee35-46e0-b20d-d2e0b4e066b8</td>\n      <td>236c35ea-f0a2-49e9-ae6d-542c8fa9ed98</td>\n      <td>0.0</td>\n      <td>-72.86</td>\n      <td>usd</td>\n    </tr>\n    <tr>\n      <th>2</th>\n      <td>TROW</td>\n      <td>T Rowe Price Group</td>\n      <td>BBG000BVMPN3</td>\n      <td>share</td>\n      <td>1.0</td>\n      <td>153.00</td>\n      <td>-36.29</td>\n      <td>0.0</td>\n      <td>0.0</td>\n      <td>116.71</td>\n      <td>153.00</td>\n      <td>1.0</td>\n      <td>False</td>\n      <td>0bd6fd2b-c76d-4d10-b1b0-7b3085b2309e</td>\n      <td>2d0b85fd-f729-44de-9937-d435e45232c6</td>\n      <td>0.0</td>\n      <td>-36.29</td>\n      <td>usd</td>\n    </tr>\n    <tr>\n      <th>3</th>\n      <td>US48581R2058</td>\n      <td>ГДР Kaspi.kz JSC</td>\n      <td>US48581R2058</td>\n      <td>share</td>\n      <td>2.0</td>\n      <td>0.00</td>\n      <td>0.00</td>\n      <td>0.0</td>\n      <td>0.0</td>\n      <td>59.00</td>\n      <td>0.00</td>\n      <td>2.0</td>\n      <td>True</td>\n      <td>b5309758-43a0-4eb5-8d42-4da8b77f7c06</td>\n      <td>3580d397-5710-4dff-8a0a-f81d6d73dad8</td>\n      <td>0.0</td>\n      <td>0.00</td>\n      <td>usd</td>\n    </tr>\n    <tr>\n      <th>4</th>\n      <td>PYPL</td>\n      <td>PayPal Holdings</td>\n      <td>BBG0077VNXV6</td>\n      <td>share</td>\n      <td>1.0</td>\n      <td>109.42</td>\n      <td>-28.98</td>\n      <td>0.0</td>\n      <td>0.0</td>\n      <td>80.44</td>\n      <td>109.42</td>\n      <td>1.0</td>\n      <td>False</td>\n      <td>61d4bd84-a421-4738-9a53-719f6afc86cc</td>\n      <td>402bb116-e10c-4bcf-90c7-d80a244ae8f6</td>\n      <td>0.0</td>\n      <td>-28.98</td>\n      <td>usd</td>\n    </tr>\n    <tr>\n      <th>...</th>\n      <td>...</td>\n      <td>...</td>\n      <td>...</td>\n      <td>...</td>\n      <td>...</td>\n      <td>...</td>\n      <td>...</td>\n      <td>...</td>\n      <td>...</td>\n      <td>...</td>\n      <td>...</td>\n      <td>...</td>\n      <td>...</td>\n      <td>...</td>\n      <td>...</td>\n      <td>...</td>\n      <td>...</td>\n      <td>...</td>\n    </tr>\n    <tr>\n      <th>67</th>\n      <td>EVER</td>\n      <td>EverQuote</td>\n      <td>BBG00F17NDH7</td>\n      <td>share</td>\n      <td>4.0</td>\n      <td>25.23</td>\n      <td>-37.19</td>\n      <td>0.0</td>\n      <td>0.0</td>\n      <td>15.93</td>\n      <td>25.23</td>\n      <td>4.0</td>\n      <td>False</td>\n      <td>25f11a6a-9796-4a04-823e-75f138df739d</td>\n      <td>ef15867b-d6f1-4a0a-8f03-a3c16179664c</td>\n      <td>0.0</td>\n      <td>-37.19</td>\n      <td>usd</td>\n    </tr>\n    <tr>\n      <th>68</th>\n      <td>TATNP</td>\n      <td>Татнефть - привилегированные акции</td>\n      <td>BBG004S68829</td>\n      <td>share</td>\n      <td>37.0</td>\n      <td>333.30</td>\n      <td>-804.90</td>\n      <td>0.0</td>\n      <td>0.0</td>\n      <td>323.70</td>\n      <td>345.50</td>\n      <td>37.0</td>\n      <td>False</td>\n      <td>25d48d77-b2bc-4617-ba87-eeaa06f2cf2c</td>\n      <td>efdb54d3-2f92-44da-b7a3-8849e96039f6</td>\n      <td>0.0</td>\n      <td>-804.90</td>\n      <td>rub</td>\n    </tr>\n    <tr>\n      <th>69</th>\n      <td>9888</td>\n      <td>Baidu</td>\n      <td>BBG00ZMFX1S5</td>\n      <td>share</td>\n      <td>10.0</td>\n      <td>133.10</td>\n      <td>119.00</td>\n      <td>0.0</td>\n      <td>0.0</td>\n      <td>145.00</td>\n      <td>133.10</td>\n      <td>1.0</td>\n      <td>False</td>\n      <td>720888cc-13e7-4af0-91d8-3e2c12b817ed</td>\n      <td>f295277c-fb3a-4a47-b942-93451319fdd5</td>\n      <td>0.0</td>\n      <td>119.00</td>\n      <td>hkd</td>\n    </tr>\n    <tr>\n      <th>70</th>\n      <td>CHMF</td>\n      <td>Северсталь</td>\n      <td>BBG00475K6C3</td>\n      <td>share</td>\n      <td>17.0</td>\n      <td>1017.60</td>\n      <td>28.00</td>\n      <td>0.0</td>\n      <td>0.0</td>\n      <td>1019.20</td>\n      <td>1017.60</td>\n      <td>17.0</td>\n      <td>False</td>\n      <td>50aac9d1-b53b-4d96-934e-941fe78e38aa</td>\n      <td>fa6aae10-b8d5-48c8-bbfd-d320d925d096</td>\n      <td>0.0</td>\n      <td>28.00</td>\n      <td>rub</td>\n    </tr>\n    <tr>\n      <th>71</th>\n      <td>ROSN</td>\n      <td>Роснефть</td>\n      <td>BBG004731354</td>\n      <td>share</td>\n      <td>42.0</td>\n      <td>332.40</td>\n      <td>778.70</td>\n      <td>0.0</td>\n      <td>0.0</td>\n      <td>350.95</td>\n      <td>332.40</td>\n      <td>42.0</td>\n      <td>False</td>\n      <td>0a0acc65-84db-4ffc-b359-faa00de99d41</td>\n      <td>fd417230-19cf-4e7b-9623-f7c9ca18ec6b</td>\n      <td>0.0</td>\n      <td>778.70</td>\n      <td>rub</td>\n    </tr>\n  </tbody>\n</table>\n<p>72 rows × 18 columns</p>\n</div>"
     },
     "execution_count": 8,
     "metadata": {},
     "output_type": "execute_result"
    }
   ],
   "source": [
    "funcs.agg_pflo_positions(acc_token=tok, mode='long')"
   ],
   "metadata": {
    "collapsed": false,
    "pycharm": {
     "name": "#%%\n"
    }
   }
  }
 ],
 "metadata": {
  "kernelspec": {
   "display_name": "Python 3",
   "language": "python",
   "name": "python3"
  },
  "language_info": {
   "codemirror_mode": {
    "name": "ipython",
    "version": 2
   },
   "file_extension": ".py",
   "mimetype": "text/x-python",
   "name": "python",
   "nbconvert_exporter": "python",
   "pygments_lexer": "ipython2",
   "version": "2.7.6"
  }
 },
 "nbformat": 4,
 "nbformat_minor": 0
}