{
 "cells": [
  {
   "cell_type": "code",
   "execution_count": 1,
   "id": "initial_id",
   "metadata": {
    "collapsed": true,
    "ExecuteTime": {
     "end_time": "2023-08-12T11:26:07.611839Z",
     "start_time": "2023-08-12T11:26:07.363387Z"
    }
   },
   "outputs": [],
   "source": [
    "import pandas as pd\n",
    "import creds\n",
    "from portfolio_analytics.utils import *\n",
    "from tqdm import tqdm\n",
    "import time\n",
    "tok = creds.token_ro_all"
   ]
  },
  {
   "cell_type": "code",
   "execution_count": 2,
   "outputs": [
    {
     "name": "stdout",
     "output_type": "stream",
     "text": [
      "['BBG004730N88', 'BBG000Q7GG57', 'BBG000BBV4M5', 'BBG0029SFXB3', 'BBG0047315D0', 'BBG004S682Z6', 'BBG000GQSRR5', 'BBG000NLC9Z6', 'BBG000MZL0Y6', 'BBG004S68598', 'BBG004RVFFC0', 'BBG002B9MYC1', 'BBG004S68758', 'BBG000SK7JS5']\n"
     ]
    }
   ],
   "source": [
    "tickers = ['SBER', 'TGKB', 'CNTL', 'KZOS', 'SNGS', 'RTKM', 'NKNC', 'LSNG', 'PMSB', 'MTLR', 'TATN', 'KAZT', 'BANE', 'LNZL']\n",
    "# NB!!! MGTS, KRKN are not api avalable, but prefs are OK\n",
    "pref_tickers = list(map(lambda string : string + 'P', tickers))\n",
    "\n",
    "figis = get_figi(tickers, ru=True, api_avalable=True)\n",
    "pref_figis = get_figi(pref_tickers, ru=True, api_avalable=True)\n",
    "print(figis)"
   ],
   "metadata": {
    "collapsed": false,
    "ExecuteTime": {
     "end_time": "2023-08-12T11:26:07.654735Z",
     "start_time": "2023-08-12T11:26:07.633326Z"
    }
   },
   "id": "fbecb7937c04beed"
  },
  {
   "cell_type": "code",
   "execution_count": 3,
   "outputs": [
    {
     "data": {
      "text/plain": "                         time  volume    open   close    high     low\n0   2023-08-11 08:26:00+00:00     757  266.41  266.40  266.43  266.40\n1   2023-08-11 08:27:00+00:00    1562  266.41  266.30  266.41  266.27\n2   2023-08-11 08:28:00+00:00    2703  266.35  266.22  266.37  266.22\n3   2023-08-11 08:29:00+00:00    6529  266.22  266.16  266.23  266.07\n4   2023-08-11 08:30:00+00:00    5536  266.16  266.05  266.19  266.00\n..                        ...     ...     ...     ...     ...     ...\n807 2023-08-12 08:22:00+00:00     216  267.78  267.54  267.78  265.18\n808 2023-08-12 08:23:00+00:00      59  265.39  265.31  267.51  265.31\n809 2023-08-12 08:24:00+00:00      48  265.29  267.39  267.45  265.25\n810 2023-08-12 08:25:00+00:00      32  267.42  267.49  267.49  265.29\n811 2023-08-12 08:26:00+00:00      35  265.35  265.23  267.39  265.23\n\n[812 rows x 6 columns]",
      "text/html": "<div>\n<style scoped>\n    .dataframe tbody tr th:only-of-type {\n        vertical-align: middle;\n    }\n\n    .dataframe tbody tr th {\n        vertical-align: top;\n    }\n\n    .dataframe thead th {\n        text-align: right;\n    }\n</style>\n<table border=\"1\" class=\"dataframe\">\n  <thead>\n    <tr style=\"text-align: right;\">\n      <th></th>\n      <th>time</th>\n      <th>volume</th>\n      <th>open</th>\n      <th>close</th>\n      <th>high</th>\n      <th>low</th>\n    </tr>\n  </thead>\n  <tbody>\n    <tr>\n      <th>0</th>\n      <td>2023-08-11 08:26:00+00:00</td>\n      <td>757</td>\n      <td>266.41</td>\n      <td>266.40</td>\n      <td>266.43</td>\n      <td>266.40</td>\n    </tr>\n    <tr>\n      <th>1</th>\n      <td>2023-08-11 08:27:00+00:00</td>\n      <td>1562</td>\n      <td>266.41</td>\n      <td>266.30</td>\n      <td>266.41</td>\n      <td>266.27</td>\n    </tr>\n    <tr>\n      <th>2</th>\n      <td>2023-08-11 08:28:00+00:00</td>\n      <td>2703</td>\n      <td>266.35</td>\n      <td>266.22</td>\n      <td>266.37</td>\n      <td>266.22</td>\n    </tr>\n    <tr>\n      <th>3</th>\n      <td>2023-08-11 08:29:00+00:00</td>\n      <td>6529</td>\n      <td>266.22</td>\n      <td>266.16</td>\n      <td>266.23</td>\n      <td>266.07</td>\n    </tr>\n    <tr>\n      <th>4</th>\n      <td>2023-08-11 08:30:00+00:00</td>\n      <td>5536</td>\n      <td>266.16</td>\n      <td>266.05</td>\n      <td>266.19</td>\n      <td>266.00</td>\n    </tr>\n    <tr>\n      <th>...</th>\n      <td>...</td>\n      <td>...</td>\n      <td>...</td>\n      <td>...</td>\n      <td>...</td>\n      <td>...</td>\n    </tr>\n    <tr>\n      <th>807</th>\n      <td>2023-08-12 08:22:00+00:00</td>\n      <td>216</td>\n      <td>267.78</td>\n      <td>267.54</td>\n      <td>267.78</td>\n      <td>265.18</td>\n    </tr>\n    <tr>\n      <th>808</th>\n      <td>2023-08-12 08:23:00+00:00</td>\n      <td>59</td>\n      <td>265.39</td>\n      <td>265.31</td>\n      <td>267.51</td>\n      <td>265.31</td>\n    </tr>\n    <tr>\n      <th>809</th>\n      <td>2023-08-12 08:24:00+00:00</td>\n      <td>48</td>\n      <td>265.29</td>\n      <td>267.39</td>\n      <td>267.45</td>\n      <td>265.25</td>\n    </tr>\n    <tr>\n      <th>810</th>\n      <td>2023-08-12 08:25:00+00:00</td>\n      <td>32</td>\n      <td>267.42</td>\n      <td>267.49</td>\n      <td>267.49</td>\n      <td>265.29</td>\n    </tr>\n    <tr>\n      <th>811</th>\n      <td>2023-08-12 08:26:00+00:00</td>\n      <td>35</td>\n      <td>265.35</td>\n      <td>265.23</td>\n      <td>267.39</td>\n      <td>265.23</td>\n    </tr>\n  </tbody>\n</table>\n<p>812 rows × 6 columns</p>\n</div>"
     },
     "execution_count": 3,
     "metadata": {},
     "output_type": "execute_result"
    }
   ],
   "source": [
    "from datetime import datetime, timedelta\n",
    "from tinkoff.invest import CandleInterval\n",
    "\n",
    "\n",
    "end = datetime.utcnow() - timedelta(hours=0)\n",
    "start = end - timedelta(days=1)\n",
    "\n",
    "df = get_candles(acc_token=tok,\n",
    "            figi='BBG004730N88',\n",
    "            from_=start,\n",
    "            to=end,\n",
    "            interval=CandleInterval.CANDLE_INTERVAL_1_MIN)\n",
    "df"
   ],
   "metadata": {
    "collapsed": false,
    "ExecuteTime": {
     "end_time": "2023-08-12T11:26:17.843022Z",
     "start_time": "2023-08-12T11:26:07.639485Z"
    }
   },
   "id": "472d7230fa2aba2f"
  },
  {
   "cell_type": "code",
   "execution_count": null,
   "outputs": [
    {
     "name": "stderr",
     "output_type": "stream",
     "text": [
      " 16%|█▋        | 298/1825 [1:00:01<5:21:37, 12.64s/it]"
     ]
    }
   ],
   "source": [
    "end = datetime(year=2023, month=8, day=10)\n",
    "for name in figis[:1]:\n",
    "    df_list = []\n",
    "    for i in tqdm(range(1825)):\n",
    "        df = get_candles(acc_token=tok,\n",
    "            figi=name,\n",
    "            from_=end-timedelta(days=1+i),\n",
    "            to=end-timedelta(days=i),\n",
    "            interval=CandleInterval.CANDLE_INTERVAL_1_MIN)\n",
    "        df_list.append(df)\n",
    "        time.sleep(0.2)\n",
    "    \n",
    "    res = pd.concat(df_list, axis=0, ignore_index=True)\n",
    "    res.to_csv(f'data/shares_data/companies/{name}.csv')"
   ],
   "metadata": {
    "collapsed": false,
    "is_executing": true,
    "ExecuteTime": {
     "start_time": "2023-08-12T11:26:17.842550Z"
    }
   },
   "id": "deddabc2bc8e4ca1"
  },
  {
   "cell_type": "code",
   "execution_count": null,
   "outputs": [],
   "source": [
    "pd.read_csv(f'data/shares_data/companies/{figis[0]}.csv')"
   ],
   "metadata": {
    "collapsed": false,
    "is_executing": true
   },
   "id": "775d26510fb887a7"
  }
 ],
 "metadata": {
  "kernelspec": {
   "display_name": "Python 3",
   "language": "python",
   "name": "python3"
  },
  "language_info": {
   "codemirror_mode": {
    "name": "ipython",
    "version": 2
   },
   "file_extension": ".py",
   "mimetype": "text/x-python",
   "name": "python",
   "nbconvert_exporter": "python",
   "pygments_lexer": "ipython2",
   "version": "2.7.6"
  }
 },
 "nbformat": 4,
 "nbformat_minor": 5
}
