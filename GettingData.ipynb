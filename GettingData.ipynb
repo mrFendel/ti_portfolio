{
 "cells": [
  {
   "cell_type": "code",
   "execution_count": 2,
   "id": "initial_id",
   "metadata": {
    "collapsed": true,
    "ExecuteTime": {
     "end_time": "2023-08-11T17:16:54.222224Z",
     "start_time": "2023-08-11T17:16:53.966421Z"
    }
   },
   "outputs": [],
   "source": [
    "import pandas as pd\n",
    "import creds\n",
    "from portfolio_analytics.utils import *\n",
    "\n",
    "tok = creds.token_ro_all"
   ]
  },
  {
   "cell_type": "code",
   "execution_count": 2,
   "outputs": [
    {
     "ename": "KeyError",
     "evalue": "'CNTL'",
     "output_type": "error",
     "traceback": [
      "\u001B[0;31m---------------------------------------------------------------------------\u001B[0m",
      "\u001B[0;31mKeyError\u001B[0m                                  Traceback (most recent call last)",
      "Cell \u001B[0;32mIn[2], line 5\u001B[0m\n\u001B[1;32m      1\u001B[0m tickers \u001B[38;5;241m=\u001B[39m [\u001B[38;5;124m'\u001B[39m\u001B[38;5;124mSBER\u001B[39m\u001B[38;5;124m'\u001B[39m, \u001B[38;5;124m'\u001B[39m\u001B[38;5;124mTGKB\u001B[39m\u001B[38;5;124m'\u001B[39m, \u001B[38;5;124m'\u001B[39m\u001B[38;5;124mCNTL\u001B[39m\u001B[38;5;124m'\u001B[39m, \u001B[38;5;124m'\u001B[39m\u001B[38;5;124mKZOS\u001B[39m\u001B[38;5;124m'\u001B[39m, \u001B[38;5;124m'\u001B[39m\u001B[38;5;124mSNGS\u001B[39m\u001B[38;5;124m'\u001B[39m, \u001B[38;5;124m'\u001B[39m\u001B[38;5;124mRTKM\u001B[39m\u001B[38;5;124m'\u001B[39m, \u001B[38;5;124m'\u001B[39m\u001B[38;5;124mNKNC\u001B[39m\u001B[38;5;124m'\u001B[39m, \u001B[38;5;124m'\u001B[39m\u001B[38;5;124mLSNG\u001B[39m\u001B[38;5;124m'\u001B[39m, \u001B[38;5;124m'\u001B[39m\u001B[38;5;124mPMSB\u001B[39m\u001B[38;5;124m'\u001B[39m, \u001B[38;5;124m'\u001B[39m\u001B[38;5;124mMTLR\u001B[39m\u001B[38;5;124m'\u001B[39m, \u001B[38;5;124m'\u001B[39m\u001B[38;5;124mTATN\u001B[39m\u001B[38;5;124m'\u001B[39m, \u001B[38;5;124m'\u001B[39m\u001B[38;5;124mKAZT\u001B[39m\u001B[38;5;124m'\u001B[39m, \u001B[38;5;124m'\u001B[39m\u001B[38;5;124mMGTS\u001B[39m\u001B[38;5;124m'\u001B[39m, \u001B[38;5;124m'\u001B[39m\u001B[38;5;124mBANE\u001B[39m\u001B[38;5;124m'\u001B[39m, \u001B[38;5;124m'\u001B[39m\u001B[38;5;124mLNZL\u001B[39m\u001B[38;5;124m'\u001B[39m, \u001B[38;5;124m'\u001B[39m\u001B[38;5;124mKRKN\u001B[39m\u001B[38;5;124m'\u001B[39m, \u001B[38;5;124m'\u001B[39m\u001B[38;5;124mTRNF\u001B[39m\u001B[38;5;124m'\u001B[39m]\n\u001B[1;32m      3\u001B[0m pref_tickers \u001B[38;5;241m=\u001B[39m \u001B[38;5;28mlist\u001B[39m(\u001B[38;5;28mmap\u001B[39m(\u001B[38;5;28;01mlambda\u001B[39;00m string : string \u001B[38;5;241m+\u001B[39m \u001B[38;5;124m'\u001B[39m\u001B[38;5;124mP\u001B[39m\u001B[38;5;124m'\u001B[39m, tickers))\n\u001B[0;32m----> 5\u001B[0m figis \u001B[38;5;241m=\u001B[39m \u001B[43mget_figi\u001B[49m\u001B[43m(\u001B[49m\u001B[43mtickers\u001B[49m\u001B[43m)\u001B[49m\n\u001B[1;32m      6\u001B[0m pref_figis \u001B[38;5;241m=\u001B[39m get_figi(pref_tickers)\n\u001B[1;32m      7\u001B[0m \u001B[38;5;28mprint\u001B[39m(figis)\n",
      "File \u001B[0;32m~/Documents/Code/PythonProjects/ti_portfolio/portfolio_analytics/utils.py:100\u001B[0m, in \u001B[0;36mget_figi\u001B[0;34m(tickers, exchange)\u001B[0m\n\u001B[1;32m     98\u001B[0m     \u001B[38;5;28;01mreturn\u001B[39;00m dictionary[tickers]\n\u001B[1;32m     99\u001B[0m \u001B[38;5;28;01melse\u001B[39;00m:\n\u001B[0;32m--> 100\u001B[0m     \u001B[38;5;28;01mreturn\u001B[39;00m \u001B[43m[\u001B[49m\u001B[43mdictionary\u001B[49m\u001B[43m[\u001B[49m\u001B[43mtick\u001B[49m\u001B[43m]\u001B[49m\u001B[43m \u001B[49m\u001B[38;5;28;43;01mfor\u001B[39;49;00m\u001B[43m \u001B[49m\u001B[43mtick\u001B[49m\u001B[43m \u001B[49m\u001B[38;5;129;43;01min\u001B[39;49;00m\u001B[43m \u001B[49m\u001B[43mtickers\u001B[49m\u001B[43m]\u001B[49m\n",
      "File \u001B[0;32m~/Documents/Code/PythonProjects/ti_portfolio/portfolio_analytics/utils.py:100\u001B[0m, in \u001B[0;36m<listcomp>\u001B[0;34m(.0)\u001B[0m\n\u001B[1;32m     98\u001B[0m     \u001B[38;5;28;01mreturn\u001B[39;00m dictionary[tickers]\n\u001B[1;32m     99\u001B[0m \u001B[38;5;28;01melse\u001B[39;00m:\n\u001B[0;32m--> 100\u001B[0m     \u001B[38;5;28;01mreturn\u001B[39;00m [\u001B[43mdictionary\u001B[49m\u001B[43m[\u001B[49m\u001B[43mtick\u001B[49m\u001B[43m]\u001B[49m \u001B[38;5;28;01mfor\u001B[39;00m tick \u001B[38;5;129;01min\u001B[39;00m tickers]\n",
      "\u001B[0;31mKeyError\u001B[0m: 'CNTL'"
     ]
    }
   ],
   "source": [
    "tickers = ['SBER', 'TGKB', 'CNTL', 'KZOS', 'SNGS', 'RTKM', 'NKNC', 'LSNG', 'PMSB', 'MTLR', 'TATN', 'KAZT', 'MGTS', 'BANE', 'LNZL', 'KRKN', 'TRNF']\n",
    "\n",
    "pref_tickers = list(map(lambda string : string + 'P', tickers))\n",
    "\n",
    "figis = get_figi(tickers, ru=True, api_avalable=True)\n",
    "pref_figis = get_figi(pref_tickers)\n",
    "print(figis)"
   ],
   "metadata": {
    "collapsed": false,
    "ExecuteTime": {
     "end_time": "2023-08-11T16:31:07.813633Z",
     "start_time": "2023-08-11T16:31:07.684409Z"
    }
   },
   "id": "fbecb7937c04beed"
  },
  {
   "cell_type": "code",
   "execution_count": 3,
   "outputs": [
    {
     "ename": "KeyError",
     "evalue": "'CNTL'",
     "output_type": "error",
     "traceback": [
      "\u001B[0;31m---------------------------------------------------------------------------\u001B[0m",
      "\u001B[0;31mKeyError\u001B[0m                                  Traceback (most recent call last)",
      "Cell \u001B[0;32mIn[3], line 1\u001B[0m\n\u001B[0;32m----> 1\u001B[0m figis \u001B[38;5;241m=\u001B[39m \u001B[43mget_figi\u001B[49m\u001B[43m(\u001B[49m\u001B[43mtickers\u001B[49m\u001B[43m)\u001B[49m\n\u001B[1;32m      2\u001B[0m pref_figis \u001B[38;5;241m=\u001B[39m get_figi(pref_tickers, exchange\u001B[38;5;241m=\u001B[39m\u001B[38;5;124m'\u001B[39m\u001B[38;5;124mMOEX_PLUS\u001B[39m\u001B[38;5;124m'\u001B[39m)\n\u001B[1;32m      3\u001B[0m \u001B[38;5;28mprint\u001B[39m(figis)\n",
      "File \u001B[0;32m~/Documents/Code/PythonProjects/ti_portfolio/portfolio_analytics/utils.py:100\u001B[0m, in \u001B[0;36mget_figi\u001B[0;34m(tickers, exchange)\u001B[0m\n\u001B[1;32m     98\u001B[0m     \u001B[38;5;28;01mreturn\u001B[39;00m dictionary[tickers]\n\u001B[1;32m     99\u001B[0m \u001B[38;5;28;01melse\u001B[39;00m:\n\u001B[0;32m--> 100\u001B[0m     \u001B[38;5;28;01mreturn\u001B[39;00m \u001B[43m[\u001B[49m\u001B[43mdictionary\u001B[49m\u001B[43m[\u001B[49m\u001B[43mtick\u001B[49m\u001B[43m]\u001B[49m\u001B[43m \u001B[49m\u001B[38;5;28;43;01mfor\u001B[39;49;00m\u001B[43m \u001B[49m\u001B[43mtick\u001B[49m\u001B[43m \u001B[49m\u001B[38;5;129;43;01min\u001B[39;49;00m\u001B[43m \u001B[49m\u001B[43mtickers\u001B[49m\u001B[43m]\u001B[49m\n",
      "File \u001B[0;32m~/Documents/Code/PythonProjects/ti_portfolio/portfolio_analytics/utils.py:100\u001B[0m, in \u001B[0;36m<listcomp>\u001B[0;34m(.0)\u001B[0m\n\u001B[1;32m     98\u001B[0m     \u001B[38;5;28;01mreturn\u001B[39;00m dictionary[tickers]\n\u001B[1;32m     99\u001B[0m \u001B[38;5;28;01melse\u001B[39;00m:\n\u001B[0;32m--> 100\u001B[0m     \u001B[38;5;28;01mreturn\u001B[39;00m [\u001B[43mdictionary\u001B[49m\u001B[43m[\u001B[49m\u001B[43mtick\u001B[49m\u001B[43m]\u001B[49m \u001B[38;5;28;01mfor\u001B[39;00m tick \u001B[38;5;129;01min\u001B[39;00m tickers]\n",
      "\u001B[0;31mKeyError\u001B[0m: 'CNTL'"
     ]
    }
   ],
   "source": [
    "figis = get_figi(tickers)\n",
    "pref_figis = get_figi(pref_tickers)\n",
    "print(figis)"
   ],
   "metadata": {
    "collapsed": false,
    "ExecuteTime": {
     "end_time": "2023-08-11T16:31:23.707735Z",
     "start_time": "2023-08-11T16:31:23.679266Z"
    }
   },
   "id": "76bd6666d068ba3e"
  },
  {
   "cell_type": "code",
   "execution_count": null,
   "outputs": [],
   "source": [
    "from datetime import datetime, timedelta\n",
    "from tinkoff.invest import CandleInterval\n",
    "\n",
    "\n",
    "end = datetime.utcnow() - timedelta(hours=0)\n",
    "start = end - timedelta(days=1)\n",
    "\n",
    "df = get_candles(acc_token=tok,\n",
    "            figi='TCS009029540',\n",
    "            from_=start,\n",
    "            to=end,\n",
    "            interval=CandleInterval.CANDLE_INTERVAL_1_MIN)\n",
    "df"
   ],
   "metadata": {
    "collapsed": false,
    "ExecuteTime": {
     "start_time": "2023-08-11T16:31:07.815620Z"
    }
   },
   "id": "472d7230fa2aba2f"
  }
 ],
 "metadata": {
  "kernelspec": {
   "display_name": "Python 3",
   "language": "python",
   "name": "python3"
  },
  "language_info": {
   "codemirror_mode": {
    "name": "ipython",
    "version": 2
   },
   "file_extension": ".py",
   "mimetype": "text/x-python",
   "name": "python",
   "nbconvert_exporter": "python",
   "pygments_lexer": "ipython2",
   "version": "2.7.6"
  }
 },
 "nbformat": 4,
 "nbformat_minor": 5
}
