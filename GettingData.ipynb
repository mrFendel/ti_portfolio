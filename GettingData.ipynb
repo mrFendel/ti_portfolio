{
 "cells": [
  {
   "cell_type": "code",
   "execution_count": 1,
   "id": "initial_id",
   "metadata": {
    "collapsed": true,
    "ExecuteTime": {
     "end_time": "2023-08-11T18:36:59.848815Z",
     "start_time": "2023-08-11T18:36:59.515936Z"
    }
   },
   "outputs": [],
   "source": [
    "import pandas as pd\n",
    "import creds\n",
    "from portfolio_analytics.utils import *\n",
    "from tqdm import tqdm\n",
    "import time\n",
    "tok = creds.token_ro_all"
   ]
  },
  {
   "cell_type": "code",
   "execution_count": 2,
   "outputs": [
    {
     "name": "stdout",
     "output_type": "stream",
     "text": [
      "['BBG004730N88', 'BBG000Q7GG57', 'BBG000BBV4M5', 'BBG0029SFXB3', 'BBG0047315D0', 'BBG004S682Z6', 'BBG000GQSRR5', 'BBG000NLC9Z6', 'BBG000MZL0Y6', 'BBG004S68598', 'BBG004RVFFC0', 'BBG002B9MYC1', 'BBG004S68758', 'BBG000SK7JS5']\n"
     ]
    }
   ],
   "source": [
    "tickers = ['SBER', 'TGKB', 'CNTL', 'KZOS', 'SNGS', 'RTKM', 'NKNC', 'LSNG', 'PMSB', 'MTLR', 'TATN', 'KAZT', 'BANE', 'LNZL']\n",
    "# NB!!! MGTS, KRKN are not api avalable, but prefs are OK\n",
    "pref_tickers = list(map(lambda string : string + 'P', tickers))\n",
    "\n",
    "figis = get_figi(tickers, ru=True, api_avalable=True)\n",
    "pref_figis = get_figi(pref_tickers, ru=True, api_avalable=True)\n",
    "print(figis)"
   ],
   "metadata": {
    "collapsed": false,
    "ExecuteTime": {
     "end_time": "2023-08-11T18:37:02.586513Z",
     "start_time": "2023-08-11T18:37:02.573560Z"
    }
   },
   "id": "fbecb7937c04beed"
  },
  {
   "cell_type": "code",
   "execution_count": 3,
   "outputs": [
    {
     "data": {
      "text/plain": "                         time  volume    open   close    high     low\n0   2023-08-10 15:37:00+00:00    2652  266.29  266.27  266.29  266.26\n1   2023-08-10 15:38:00+00:00    1815  266.27  266.25  266.30  266.23\n2   2023-08-10 15:39:00+00:00    4113  266.25  266.28  266.30  266.24\n3   2023-08-10 15:45:00+00:00   18120  266.49  266.49  266.49  266.49\n4   2023-08-10 15:46:00+00:00      11  266.49  266.49  266.49  266.49\n..                        ...     ...     ...     ...     ...     ...\n807 2023-08-11 15:33:00+00:00    3345  266.34  266.31  266.35  266.31\n808 2023-08-11 15:34:00+00:00     176  266.33  266.32  266.33  266.31\n809 2023-08-11 15:35:00+00:00    3162  266.33  266.32  266.33  266.31\n810 2023-08-11 15:36:00+00:00    6436  266.32  266.27  266.32  266.26\n811 2023-08-11 15:37:00+00:00    3621  266.27  266.25  266.27  266.25\n\n[812 rows x 6 columns]",
      "text/html": "<div>\n<style scoped>\n    .dataframe tbody tr th:only-of-type {\n        vertical-align: middle;\n    }\n\n    .dataframe tbody tr th {\n        vertical-align: top;\n    }\n\n    .dataframe thead th {\n        text-align: right;\n    }\n</style>\n<table border=\"1\" class=\"dataframe\">\n  <thead>\n    <tr style=\"text-align: right;\">\n      <th></th>\n      <th>time</th>\n      <th>volume</th>\n      <th>open</th>\n      <th>close</th>\n      <th>high</th>\n      <th>low</th>\n    </tr>\n  </thead>\n  <tbody>\n    <tr>\n      <th>0</th>\n      <td>2023-08-10 15:37:00+00:00</td>\n      <td>2652</td>\n      <td>266.29</td>\n      <td>266.27</td>\n      <td>266.29</td>\n      <td>266.26</td>\n    </tr>\n    <tr>\n      <th>1</th>\n      <td>2023-08-10 15:38:00+00:00</td>\n      <td>1815</td>\n      <td>266.27</td>\n      <td>266.25</td>\n      <td>266.30</td>\n      <td>266.23</td>\n    </tr>\n    <tr>\n      <th>2</th>\n      <td>2023-08-10 15:39:00+00:00</td>\n      <td>4113</td>\n      <td>266.25</td>\n      <td>266.28</td>\n      <td>266.30</td>\n      <td>266.24</td>\n    </tr>\n    <tr>\n      <th>3</th>\n      <td>2023-08-10 15:45:00+00:00</td>\n      <td>18120</td>\n      <td>266.49</td>\n      <td>266.49</td>\n      <td>266.49</td>\n      <td>266.49</td>\n    </tr>\n    <tr>\n      <th>4</th>\n      <td>2023-08-10 15:46:00+00:00</td>\n      <td>11</td>\n      <td>266.49</td>\n      <td>266.49</td>\n      <td>266.49</td>\n      <td>266.49</td>\n    </tr>\n    <tr>\n      <th>...</th>\n      <td>...</td>\n      <td>...</td>\n      <td>...</td>\n      <td>...</td>\n      <td>...</td>\n      <td>...</td>\n    </tr>\n    <tr>\n      <th>807</th>\n      <td>2023-08-11 15:33:00+00:00</td>\n      <td>3345</td>\n      <td>266.34</td>\n      <td>266.31</td>\n      <td>266.35</td>\n      <td>266.31</td>\n    </tr>\n    <tr>\n      <th>808</th>\n      <td>2023-08-11 15:34:00+00:00</td>\n      <td>176</td>\n      <td>266.33</td>\n      <td>266.32</td>\n      <td>266.33</td>\n      <td>266.31</td>\n    </tr>\n    <tr>\n      <th>809</th>\n      <td>2023-08-11 15:35:00+00:00</td>\n      <td>3162</td>\n      <td>266.33</td>\n      <td>266.32</td>\n      <td>266.33</td>\n      <td>266.31</td>\n    </tr>\n    <tr>\n      <th>810</th>\n      <td>2023-08-11 15:36:00+00:00</td>\n      <td>6436</td>\n      <td>266.32</td>\n      <td>266.27</td>\n      <td>266.32</td>\n      <td>266.26</td>\n    </tr>\n    <tr>\n      <th>811</th>\n      <td>2023-08-11 15:37:00+00:00</td>\n      <td>3621</td>\n      <td>266.27</td>\n      <td>266.25</td>\n      <td>266.27</td>\n      <td>266.25</td>\n    </tr>\n  </tbody>\n</table>\n<p>812 rows × 6 columns</p>\n</div>"
     },
     "execution_count": 3,
     "metadata": {},
     "output_type": "execute_result"
    }
   ],
   "source": [
    "from datetime import datetime, timedelta\n",
    "from tinkoff.invest import CandleInterval\n",
    "\n",
    "\n",
    "end = datetime.utcnow() - timedelta(hours=0)\n",
    "start = end - timedelta(days=1)\n",
    "\n",
    "df = get_candles(acc_token=tok,\n",
    "            figi='BBG004730N88',\n",
    "            from_=start,\n",
    "            to=end,\n",
    "            interval=CandleInterval.CANDLE_INTERVAL_1_MIN)\n",
    "df"
   ],
   "metadata": {
    "collapsed": false,
    "ExecuteTime": {
     "end_time": "2023-08-11T18:37:12.296727Z",
     "start_time": "2023-08-11T18:37:12.127925Z"
    }
   },
   "id": "472d7230fa2aba2f"
  },
  {
   "cell_type": "code",
   "execution_count": 11,
   "outputs": [
    {
     "name": "stderr",
     "output_type": "stream",
     "text": [
      "  0%|          | 2/1825 [00:00<09:54,  3.07it/s]859e45a9de3771b0c16fe2b7e722534d GetCandles INVALID_ARGUMENT 30012\n",
      "  0%|          | 2/1825 [00:00<11:03,  2.75it/s]\n"
     ]
    },
    {
     "ename": "RequestError",
     "evalue": "(<StatusCode.INVALID_ARGUMENT: (3, 'invalid argument')>, '30012', Metadata(tracking_id='859e45a9de3771b0c16fe2b7e722534d', ratelimit_limit='300, 300;w=60', ratelimit_remaining=297, ratelimit_reset=52, message=\"'to' can't be less than 'from'\"))",
     "output_type": "error",
     "traceback": [
      "\u001B[0;31m---------------------------------------------------------------------------\u001B[0m",
      "\u001B[0;31m_InactiveRpcError\u001B[0m                         Traceback (most recent call last)",
      "File \u001B[0;32m~/Documents/Code/PythonProjects/ti_portfolio/env/lib/python3.11/site-packages/tinkoff/invest/_errors.py:23\u001B[0m, in \u001B[0;36mhandle_request_error.<locals>.decorator.<locals>.wrapper\u001B[0;34m(*args, **kwargs)\u001B[0m\n\u001B[1;32m     22\u001B[0m \u001B[38;5;28;01mtry\u001B[39;00m:\n\u001B[0;32m---> 23\u001B[0m     \u001B[38;5;28;01mreturn\u001B[39;00m \u001B[43mfunc\u001B[49m\u001B[43m(\u001B[49m\u001B[38;5;241;43m*\u001B[39;49m\u001B[43margs\u001B[49m\u001B[43m,\u001B[49m\u001B[43m \u001B[49m\u001B[38;5;241;43m*\u001B[39;49m\u001B[38;5;241;43m*\u001B[39;49m\u001B[43mkwargs\u001B[49m\u001B[43m)\u001B[49m\n\u001B[1;32m     24\u001B[0m \u001B[38;5;28;01mexcept\u001B[39;00m RpcError \u001B[38;5;28;01mas\u001B[39;00m e:\n",
      "File \u001B[0;32m~/Documents/Code/PythonProjects/ti_portfolio/env/lib/python3.11/site-packages/tinkoff/invest/services.py:912\u001B[0m, in \u001B[0;36mMarketDataService.get_candles\u001B[0;34m(self, figi, from_, to, interval, instrument_id)\u001B[0m\n\u001B[1;32m    911\u001B[0m request\u001B[38;5;241m.\u001B[39minterval \u001B[38;5;241m=\u001B[39m interval\n\u001B[0;32m--> 912\u001B[0m response, call \u001B[38;5;241m=\u001B[39m \u001B[38;5;28;43mself\u001B[39;49m\u001B[38;5;241;43m.\u001B[39;49m\u001B[43mstub\u001B[49m\u001B[38;5;241;43m.\u001B[39;49m\u001B[43mGetCandles\u001B[49m\u001B[38;5;241;43m.\u001B[39;49m\u001B[43mwith_call\u001B[49m\u001B[43m(\u001B[49m\n\u001B[1;32m    913\u001B[0m \u001B[43m    \u001B[49m\u001B[43mrequest\u001B[49m\u001B[38;5;241;43m=\u001B[39;49m\u001B[43m_grpc_helpers\u001B[49m\u001B[38;5;241;43m.\u001B[39;49m\u001B[43mdataclass_to_protobuff\u001B[49m\u001B[43m(\u001B[49m\n\u001B[1;32m    914\u001B[0m \u001B[43m        \u001B[49m\u001B[43mrequest\u001B[49m\u001B[43m,\u001B[49m\u001B[43m \u001B[49m\u001B[43mmarketdata_pb2\u001B[49m\u001B[38;5;241;43m.\u001B[39;49m\u001B[43mGetCandlesRequest\u001B[49m\u001B[43m(\u001B[49m\u001B[43m)\u001B[49m\n\u001B[1;32m    915\u001B[0m \u001B[43m    \u001B[49m\u001B[43m)\u001B[49m\u001B[43m,\u001B[49m\n\u001B[1;32m    916\u001B[0m \u001B[43m    \u001B[49m\u001B[43mmetadata\u001B[49m\u001B[38;5;241;43m=\u001B[39;49m\u001B[38;5;28;43mself\u001B[39;49m\u001B[38;5;241;43m.\u001B[39;49m\u001B[43mmetadata\u001B[49m\u001B[43m,\u001B[49m\n\u001B[1;32m    917\u001B[0m \u001B[43m\u001B[49m\u001B[43m)\u001B[49m\n\u001B[1;32m    918\u001B[0m log_request(get_tracking_id_from_call(call), \u001B[38;5;124m\"\u001B[39m\u001B[38;5;124mGetCandles\u001B[39m\u001B[38;5;124m\"\u001B[39m)\n",
      "File \u001B[0;32m~/Documents/Code/PythonProjects/ti_portfolio/env/lib/python3.11/site-packages/grpc/_channel.py:1178\u001B[0m, in \u001B[0;36m_UnaryUnaryMultiCallable.with_call\u001B[0;34m(self, request, timeout, metadata, credentials, wait_for_ready, compression)\u001B[0m\n\u001B[1;32m   1172\u001B[0m (\n\u001B[1;32m   1173\u001B[0m     state,\n\u001B[1;32m   1174\u001B[0m     call,\n\u001B[1;32m   1175\u001B[0m ) \u001B[38;5;241m=\u001B[39m \u001B[38;5;28mself\u001B[39m\u001B[38;5;241m.\u001B[39m_blocking(\n\u001B[1;32m   1176\u001B[0m     request, timeout, metadata, credentials, wait_for_ready, compression\n\u001B[1;32m   1177\u001B[0m )\n\u001B[0;32m-> 1178\u001B[0m \u001B[38;5;28;01mreturn\u001B[39;00m \u001B[43m_end_unary_response_blocking\u001B[49m\u001B[43m(\u001B[49m\u001B[43mstate\u001B[49m\u001B[43m,\u001B[49m\u001B[43m \u001B[49m\u001B[43mcall\u001B[49m\u001B[43m,\u001B[49m\u001B[43m \u001B[49m\u001B[38;5;28;43;01mTrue\u001B[39;49;00m\u001B[43m,\u001B[49m\u001B[43m \u001B[49m\u001B[38;5;28;43;01mNone\u001B[39;49;00m\u001B[43m)\u001B[49m\n",
      "File \u001B[0;32m~/Documents/Code/PythonProjects/ti_portfolio/env/lib/python3.11/site-packages/grpc/_channel.py:1004\u001B[0m, in \u001B[0;36m_end_unary_response_blocking\u001B[0;34m(state, call, with_call, deadline)\u001B[0m\n\u001B[1;32m   1003\u001B[0m \u001B[38;5;28;01melse\u001B[39;00m:\n\u001B[0;32m-> 1004\u001B[0m     \u001B[38;5;28;01mraise\u001B[39;00m _InactiveRpcError(state)\n",
      "\u001B[0;31m_InactiveRpcError\u001B[0m: <_InactiveRpcError of RPC that terminated with:\n\tstatus = StatusCode.INVALID_ARGUMENT\n\tdetails = \"30012\"\n\tdebug_error_string = \"UNKNOWN:Error received from peer  {grpc_message:\"30012\", grpc_status:3, created_time:\"2023-08-11T22:17:08.175459+03:00\"}\"\n>",
      "\nThe above exception was the direct cause of the following exception:\n",
      "\u001B[0;31mRequestError\u001B[0m                              Traceback (most recent call last)",
      "Cell \u001B[0;32mIn[11], line 6\u001B[0m\n\u001B[1;32m      4\u001B[0m \u001B[38;5;28;01mfor\u001B[39;00m i \u001B[38;5;129;01min\u001B[39;00m tqdm(\u001B[38;5;28mrange\u001B[39m(\u001B[38;5;241m1825\u001B[39m)):\n\u001B[1;32m      5\u001B[0m     start \u001B[38;5;241m=\u001B[39m end \u001B[38;5;241m-\u001B[39m timedelta(days\u001B[38;5;241m=\u001B[39m\u001B[38;5;241m1\u001B[39m)\n\u001B[0;32m----> 6\u001B[0m     df \u001B[38;5;241m=\u001B[39m \u001B[43mget_candles\u001B[49m\u001B[43m(\u001B[49m\u001B[43macc_token\u001B[49m\u001B[38;5;241;43m=\u001B[39;49m\u001B[43mtok\u001B[49m\u001B[43m,\u001B[49m\n\u001B[1;32m      7\u001B[0m \u001B[43m        \u001B[49m\u001B[43mfigi\u001B[49m\u001B[38;5;241;43m=\u001B[39;49m\u001B[38;5;124;43m'\u001B[39;49m\u001B[38;5;124;43mBBG004730N88\u001B[39;49m\u001B[38;5;124;43m'\u001B[39;49m\u001B[43m,\u001B[49m\n\u001B[1;32m      8\u001B[0m \u001B[43m        \u001B[49m\u001B[43mfrom_\u001B[49m\u001B[38;5;241;43m=\u001B[39;49m\u001B[43mstart\u001B[49m\u001B[43m,\u001B[49m\n\u001B[1;32m      9\u001B[0m \u001B[43m        \u001B[49m\u001B[43mto\u001B[49m\u001B[38;5;241;43m=\u001B[39;49m\u001B[43mend\u001B[49m\u001B[38;5;241;43m-\u001B[39;49m\u001B[43mtimedelta\u001B[49m\u001B[43m(\u001B[49m\u001B[43mdays\u001B[49m\u001B[38;5;241;43m=\u001B[39;49m\u001B[43mi\u001B[49m\u001B[43m)\u001B[49m\u001B[43m,\u001B[49m\n\u001B[1;32m     10\u001B[0m \u001B[43m        \u001B[49m\u001B[43minterval\u001B[49m\u001B[38;5;241;43m=\u001B[39;49m\u001B[43mCandleInterval\u001B[49m\u001B[38;5;241;43m.\u001B[39;49m\u001B[43mCANDLE_INTERVAL_1_MIN\u001B[49m\u001B[43m)\u001B[49m\n\u001B[1;32m     11\u001B[0m     df_list\u001B[38;5;241m.\u001B[39mappend(df)\n\u001B[1;32m     12\u001B[0m     time\u001B[38;5;241m.\u001B[39msleep(\u001B[38;5;241m0.2\u001B[39m)\n",
      "File \u001B[0;32m~/Documents/Code/PythonProjects/ti_portfolio/portfolio_analytics/utils.py:137\u001B[0m, in \u001B[0;36mget_candles\u001B[0;34m(acc_token, figi, from_, to, interval)\u001B[0m\n\u001B[1;32m    130\u001B[0m \u001B[38;5;28;01mdef\u001B[39;00m \u001B[38;5;21mget_candles\u001B[39m(acc_token: \u001B[38;5;28mstr\u001B[39m,\n\u001B[1;32m    131\u001B[0m                 figi: \u001B[38;5;28mstr\u001B[39m, from_: datetime,\n\u001B[1;32m    132\u001B[0m                 to: datetime \u001B[38;5;241m|\u001B[39m \u001B[38;5;28;01mNone\u001B[39;00m \u001B[38;5;241m=\u001B[39m \u001B[38;5;28;01mNone\u001B[39;00m,\n\u001B[1;32m    133\u001B[0m                 interval\u001B[38;5;241m=\u001B[39mCandleInterval\u001B[38;5;241m.\u001B[39mCANDLE_INTERVAL_1_MIN\n\u001B[1;32m    134\u001B[0m                 ):\n\u001B[1;32m    136\u001B[0m     \u001B[38;5;28;01mwith\u001B[39;00m Client(acc_token) \u001B[38;5;28;01mas\u001B[39;00m client:\n\u001B[0;32m--> 137\u001B[0m         response \u001B[38;5;241m=\u001B[39m \u001B[43mclient\u001B[49m\u001B[38;5;241;43m.\u001B[39;49m\u001B[43mmarket_data\u001B[49m\u001B[38;5;241;43m.\u001B[39;49m\u001B[43mget_candles\u001B[49m\u001B[43m(\u001B[49m\u001B[43mfrom_\u001B[49m\u001B[38;5;241;43m=\u001B[39;49m\u001B[43mfrom_\u001B[49m\u001B[43m,\u001B[49m\u001B[43m \u001B[49m\u001B[43mto\u001B[49m\u001B[38;5;241;43m=\u001B[39;49m\u001B[43mto\u001B[49m\u001B[43m,\u001B[49m\u001B[43m \u001B[49m\u001B[43minterval\u001B[49m\u001B[38;5;241;43m=\u001B[39;49m\u001B[43minterval\u001B[49m\u001B[43m,\u001B[49m\u001B[43m \u001B[49m\u001B[43mfigi\u001B[49m\u001B[38;5;241;43m=\u001B[39;49m\u001B[43mfigi\u001B[49m\u001B[43m)\u001B[49m\n\u001B[1;32m    139\u001B[0m     \u001B[38;5;28;01mreturn\u001B[39;00m create_candle_df(response\u001B[38;5;241m.\u001B[39mcandles)\n",
      "File \u001B[0;32m~/Documents/Code/PythonProjects/ti_portfolio/env/lib/python3.11/site-packages/tinkoff/invest/_errors.py:41\u001B[0m, in \u001B[0;36mhandle_request_error.<locals>.decorator.<locals>.wrapper\u001B[0;34m(*args, **kwargs)\u001B[0m\n\u001B[1;32m     36\u001B[0m     \u001B[38;5;28;01mif\u001B[39;00m status_code \u001B[38;5;241m==\u001B[39m StatusCode\u001B[38;5;241m.\u001B[39mUNAUTHENTICATED:\n\u001B[1;32m     37\u001B[0m         \u001B[38;5;28;01mraise\u001B[39;00m UnauthenticatedError(\n\u001B[1;32m     38\u001B[0m             status_code, details, metadata\n\u001B[1;32m     39\u001B[0m         ) \u001B[38;5;28;01mfrom\u001B[39;00m \u001B[38;5;21;01me\u001B[39;00m\n\u001B[0;32m---> 41\u001B[0m     \u001B[38;5;28;01mraise\u001B[39;00m RequestError(status_code, details, metadata) \u001B[38;5;28;01mfrom\u001B[39;00m \u001B[38;5;21;01me\u001B[39;00m\n\u001B[1;32m     42\u001B[0m \u001B[38;5;28;01mraise\u001B[39;00m\n",
      "\u001B[0;31mRequestError\u001B[0m: (<StatusCode.INVALID_ARGUMENT: (3, 'invalid argument')>, '30012', Metadata(tracking_id='859e45a9de3771b0c16fe2b7e722534d', ratelimit_limit='300, 300;w=60', ratelimit_remaining=297, ratelimit_reset=52, message=\"'to' can't be less than 'from'\"))"
     ]
    }
   ],
   "source": [
    "end = datetime(year=2023, month=8, day=10)\n",
    "for name in figis[:1]:\n",
    "    df_list = []\n",
    "    for i in tqdm(range(1825)):\n",
    "        df = get_candles(acc_token=tok,\n",
    "            figi=name,\n",
    "            from_=end-timedelta(days=1+i),\n",
    "            to=end-timedelta(days=i),\n",
    "            interval=CandleInterval.CANDLE_INTERVAL_1_MIN)\n",
    "        df_list.append(df)\n",
    "        time.sleep(0.2)\n",
    "    \n",
    "    res = pd.concat(df_list, axis=0, ignore_index=True)\n",
    "    res.to_csv(f'data/shares_data/companies/{name}.csv')"
   ],
   "metadata": {
    "collapsed": false,
    "ExecuteTime": {
     "end_time": "2023-08-11T19:17:08.220323Z",
     "start_time": "2023-08-11T19:17:07.448621Z"
    }
   },
   "id": "deddabc2bc8e4ca1"
  }
 ],
 "metadata": {
  "kernelspec": {
   "display_name": "Python 3",
   "language": "python",
   "name": "python3"
  },
  "language_info": {
   "codemirror_mode": {
    "name": "ipython",
    "version": 2
   },
   "file_extension": ".py",
   "mimetype": "text/x-python",
   "name": "python",
   "nbconvert_exporter": "python",
   "pygments_lexer": "ipython2",
   "version": "2.7.6"
  }
 },
 "nbformat": 4,
 "nbformat_minor": 5
}
