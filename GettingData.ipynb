{
 "cells": [
  {
   "cell_type": "code",
   "execution_count": 1,
   "id": "initial_id",
   "metadata": {
    "collapsed": true,
    "ExecuteTime": {
     "end_time": "2023-08-11T17:23:52.292021Z",
     "start_time": "2023-08-11T17:23:52.041616Z"
    }
   },
   "outputs": [],
   "source": [
    "import pandas as pd\n",
    "import creds\n",
    "from portfolio_analytics.utils import *\n",
    "\n",
    "tok = creds.token_ro_all"
   ]
  },
  {
   "cell_type": "code",
   "execution_count": 7,
   "outputs": [
    {
     "name": "stdout",
     "output_type": "stream",
     "text": [
      "['BBG004730N88', 'BBG000Q7GG57', 'BBG000BBV4M5', 'BBG0029SFXB3', 'BBG0047315D0', 'BBG004S682Z6', 'BBG000GQSRR5', 'BBG000NLC9Z6', 'BBG000MZL0Y6', 'BBG004S68598', 'BBG004RVFFC0', 'BBG002B9MYC1', 'BBG004S68758', 'BBG000SK7JS5']\n"
     ]
    }
   ],
   "source": [
    "tickers = ['SBER', 'TGKB', 'CNTL', 'KZOS', 'SNGS', 'RTKM', 'NKNC', 'LSNG', 'PMSB', 'MTLR', 'TATN', 'KAZT', 'BANE', 'LNZL']\n",
    "# NB!!! MGTS, KRKN are not api avalable, but prefs are OK\n",
    "pref_tickers = list(map(lambda string : string + 'P', tickers))\n",
    "\n",
    "figis = get_figi(tickers, ru=True, api_avalable=True)\n",
    "pref_figis = get_figi(pref_tickers, ru=True, api_avalable=True)\n",
    "print(figis)"
   ],
   "metadata": {
    "collapsed": false,
    "ExecuteTime": {
     "end_time": "2023-08-11T17:28:14.741448Z",
     "start_time": "2023-08-11T17:28:14.732912Z"
    }
   },
   "id": "fbecb7937c04beed"
  },
  {
   "cell_type": "code",
   "execution_count": 8,
   "outputs": [
    {
     "name": "stdout",
     "output_type": "stream",
     "text": [
      "812\n"
     ]
    },
    {
     "data": {
      "text/plain": "                         time  volume    open   close    high     low\n0   2023-08-10 14:28:00+00:00   12742  266.05  266.00  266.05  265.95\n1   2023-08-10 14:29:00+00:00    6726  266.00  265.99  266.00  265.84\n2   2023-08-10 14:30:00+00:00    3628  265.97  265.90  266.00  265.90\n3   2023-08-10 14:31:00+00:00    2055  265.93  265.98  265.99  265.85\n4   2023-08-10 14:32:00+00:00    3487  265.98  266.00  266.00  265.97\n..                        ...     ...     ...     ...     ...     ...\n807 2023-08-11 14:24:00+00:00    1362  265.77  265.79  265.80  265.77\n808 2023-08-11 14:25:00+00:00    1930  265.79  265.78  265.80  265.77\n809 2023-08-11 14:26:00+00:00    2121  265.78  265.78  265.79  265.72\n810 2023-08-11 14:27:00+00:00    1623  265.78  265.79  265.79  265.78\n811 2023-08-11 14:28:00+00:00     602  265.78  265.75  265.78  265.75\n\n[812 rows x 6 columns]",
      "text/html": "<div>\n<style scoped>\n    .dataframe tbody tr th:only-of-type {\n        vertical-align: middle;\n    }\n\n    .dataframe tbody tr th {\n        vertical-align: top;\n    }\n\n    .dataframe thead th {\n        text-align: right;\n    }\n</style>\n<table border=\"1\" class=\"dataframe\">\n  <thead>\n    <tr style=\"text-align: right;\">\n      <th></th>\n      <th>time</th>\n      <th>volume</th>\n      <th>open</th>\n      <th>close</th>\n      <th>high</th>\n      <th>low</th>\n    </tr>\n  </thead>\n  <tbody>\n    <tr>\n      <th>0</th>\n      <td>2023-08-10 14:28:00+00:00</td>\n      <td>12742</td>\n      <td>266.05</td>\n      <td>266.00</td>\n      <td>266.05</td>\n      <td>265.95</td>\n    </tr>\n    <tr>\n      <th>1</th>\n      <td>2023-08-10 14:29:00+00:00</td>\n      <td>6726</td>\n      <td>266.00</td>\n      <td>265.99</td>\n      <td>266.00</td>\n      <td>265.84</td>\n    </tr>\n    <tr>\n      <th>2</th>\n      <td>2023-08-10 14:30:00+00:00</td>\n      <td>3628</td>\n      <td>265.97</td>\n      <td>265.90</td>\n      <td>266.00</td>\n      <td>265.90</td>\n    </tr>\n    <tr>\n      <th>3</th>\n      <td>2023-08-10 14:31:00+00:00</td>\n      <td>2055</td>\n      <td>265.93</td>\n      <td>265.98</td>\n      <td>265.99</td>\n      <td>265.85</td>\n    </tr>\n    <tr>\n      <th>4</th>\n      <td>2023-08-10 14:32:00+00:00</td>\n      <td>3487</td>\n      <td>265.98</td>\n      <td>266.00</td>\n      <td>266.00</td>\n      <td>265.97</td>\n    </tr>\n    <tr>\n      <th>...</th>\n      <td>...</td>\n      <td>...</td>\n      <td>...</td>\n      <td>...</td>\n      <td>...</td>\n      <td>...</td>\n    </tr>\n    <tr>\n      <th>807</th>\n      <td>2023-08-11 14:24:00+00:00</td>\n      <td>1362</td>\n      <td>265.77</td>\n      <td>265.79</td>\n      <td>265.80</td>\n      <td>265.77</td>\n    </tr>\n    <tr>\n      <th>808</th>\n      <td>2023-08-11 14:25:00+00:00</td>\n      <td>1930</td>\n      <td>265.79</td>\n      <td>265.78</td>\n      <td>265.80</td>\n      <td>265.77</td>\n    </tr>\n    <tr>\n      <th>809</th>\n      <td>2023-08-11 14:26:00+00:00</td>\n      <td>2121</td>\n      <td>265.78</td>\n      <td>265.78</td>\n      <td>265.79</td>\n      <td>265.72</td>\n    </tr>\n    <tr>\n      <th>810</th>\n      <td>2023-08-11 14:27:00+00:00</td>\n      <td>1623</td>\n      <td>265.78</td>\n      <td>265.79</td>\n      <td>265.79</td>\n      <td>265.78</td>\n    </tr>\n    <tr>\n      <th>811</th>\n      <td>2023-08-11 14:28:00+00:00</td>\n      <td>602</td>\n      <td>265.78</td>\n      <td>265.75</td>\n      <td>265.78</td>\n      <td>265.75</td>\n    </tr>\n  </tbody>\n</table>\n<p>812 rows × 6 columns</p>\n</div>"
     },
     "execution_count": 8,
     "metadata": {},
     "output_type": "execute_result"
    }
   ],
   "source": [
    "from datetime import datetime, timedelta\n",
    "from tinkoff.invest import CandleInterval\n",
    "\n",
    "\n",
    "end = datetime.utcnow() - timedelta(hours=0)\n",
    "start = end - timedelta(days=1)\n",
    "\n",
    "df = get_candles(acc_token=tok,\n",
    "            figi='BBG004730N88',\n",
    "            from_=start,\n",
    "            to=end,\n",
    "            interval=CandleInterval.CANDLE_INTERVAL_1_MIN)\n",
    "df"
   ],
   "metadata": {
    "collapsed": false,
    "ExecuteTime": {
     "end_time": "2023-08-11T17:28:47.415208Z",
     "start_time": "2023-08-11T17:28:47.249601Z"
    }
   },
   "id": "472d7230fa2aba2f"
  }
 ],
 "metadata": {
  "kernelspec": {
   "display_name": "Python 3",
   "language": "python",
   "name": "python3"
  },
  "language_info": {
   "codemirror_mode": {
    "name": "ipython",
    "version": 2
   },
   "file_extension": ".py",
   "mimetype": "text/x-python",
   "name": "python",
   "nbconvert_exporter": "python",
   "pygments_lexer": "ipython2",
   "version": "2.7.6"
  }
 },
 "nbformat": 4,
 "nbformat_minor": 5
}
