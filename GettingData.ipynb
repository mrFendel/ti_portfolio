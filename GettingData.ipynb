{
 "cells": [
  {
   "cell_type": "code",
   "execution_count": 1,
   "id": "initial_id",
   "metadata": {
    "collapsed": true,
    "ExecuteTime": {
     "end_time": "2023-08-11T09:35:42.533482Z",
     "start_time": "2023-08-11T09:35:42.239536Z"
    }
   },
   "outputs": [],
   "source": [
    "import pandas as pd\n",
    "import creds\n",
    "from portfolio_analytics.utils import *\n",
    "\n",
    "tok = creds.token_ro_all"
   ]
  },
  {
   "cell_type": "code",
   "execution_count": 2,
   "outputs": [
    {
     "name": "stdout",
     "output_type": "stream",
     "text": [
      "['TCS009029540', 'BBG000Q7GG57', 'BBG000BBV4M5', 'BBG0029SFXB3', 'BBG0047315D0', 'BBG004S682Z6', 'BBG000GQSRR5', 'BBG000NLC9Z6', 'BBG000MZL0Y6', 'TCS00A0DKXV5', 'TCS009033591', 'BBG002B9MYC1', 'BBG000NT5184', 'BBG004S68758', 'BBG000SK7JS5', 'BBG002B2J6C1', 'BBG00PQ6TMW7']\n"
     ]
    }
   ],
   "source": [
    "tickers = ['SBER', 'TGKB', 'CNTL', 'KZOS', 'SNGS', 'RTKM', 'NKNC', 'LSNG', 'PMSB', 'MTLR', 'TATN', 'KAZT', 'MGTS', 'BANE', 'LNZL', 'KRKN', 'TRNF']\n",
    "pref_tickers = list(map(lambda string : string + 'P', tickers))\n",
    "\n",
    "figis = get_figi(tickers)\n",
    "pref_figis = get_figi(pref_tickers)\n",
    "print(figis)"
   ],
   "metadata": {
    "collapsed": false,
    "ExecuteTime": {
     "end_time": "2023-08-11T09:35:42.550151Z",
     "start_time": "2023-08-11T09:35:42.533786Z"
    }
   },
   "id": "fbecb7937c04beed"
  },
  {
   "cell_type": "code",
   "execution_count": 3,
   "outputs": [
    {
     "name": "stdout",
     "output_type": "stream",
     "text": [
      "42\n"
     ]
    },
    {
     "data": {
      "text/plain": "                        time  volume    open   close    high     low\n0  2023-08-04 07:00:00+00:00       7  267.28  270.54  270.54  267.28\n1  2023-08-04 08:00:00+00:00       9  270.00  270.66  270.66  270.00\n2  2023-08-04 09:00:00+00:00      26  267.32  270.15  270.15  267.32\n3  2023-08-04 10:00:00+00:00      10  270.85  271.00  271.00  270.02\n4  2023-08-04 11:00:00+00:00       1  271.60  271.60  271.60  271.60\n5  2023-08-04 12:00:00+00:00      52  270.02  268.99  270.02  267.17\n6  2023-08-04 13:00:00+00:00       2  265.58  265.58  265.58  265.58\n7  2023-08-04 15:00:00+00:00      86  265.77  262.74  265.90  262.74\n8  2023-08-04 16:00:00+00:00      12  262.99  262.80  282.97  262.80\n9  2023-08-04 17:00:00+00:00       5  262.77  262.77  262.77  262.77\n10 2023-08-04 19:00:00+00:00       8  264.55  262.76  264.55  262.76\n11 2023-08-07 07:00:00+00:00      13  260.56  265.55  269.96  258.01\n12 2023-08-07 12:00:00+00:00       2  265.55  264.85  265.55  264.85\n13 2023-08-07 13:00:00+00:00       1  263.08  263.08  263.08  263.08\n14 2023-08-07 14:00:00+00:00       4  263.23  263.23  263.23  263.23\n15 2023-08-07 15:00:00+00:00      93  264.12  262.23  264.12  262.23\n16 2023-08-07 17:00:00+00:00       2  262.90  262.90  262.90  262.90\n17 2023-08-08 07:00:00+00:00       2  262.99  262.99  262.99  262.99\n18 2023-08-08 09:00:00+00:00       9  259.04  256.54  259.04  256.54\n19 2023-08-08 10:00:00+00:00       8  259.01  259.01  259.01  259.01\n20 2023-08-08 12:00:00+00:00       1  262.95  262.95  262.95  262.95\n21 2023-08-08 14:00:00+00:00      11  262.51  264.09  264.09  262.51\n22 2023-08-08 15:00:00+00:00     104  264.10  258.24  264.10  258.24\n23 2023-08-08 17:00:00+00:00       1  264.93  264.93  264.93  264.93\n24 2023-08-09 07:00:00+00:00       1  264.00  264.00  264.00  264.00\n25 2023-08-09 08:00:00+00:00       4  264.28  264.73  264.73  264.27\n26 2023-08-09 09:00:00+00:00       1  265.20  265.20  265.20  265.20\n27 2023-08-09 10:00:00+00:00       8  263.01  263.01  263.01  263.01\n28 2023-08-09 11:00:00+00:00       6  263.01  264.32  264.32  263.00\n29 2023-08-09 12:00:00+00:00       6  268.98  264.15  268.98  264.15\n30 2023-08-09 13:00:00+00:00       3  264.15  264.15  264.15  264.15\n31 2023-08-09 14:00:00+00:00       1  265.22  265.22  265.22  265.22\n32 2023-08-09 15:00:00+00:00      71  263.72  264.00  264.00  262.77\n33 2023-08-09 17:00:00+00:00       2  257.03  257.03  257.03  257.03\n34 2023-08-10 07:00:00+00:00      17  270.00  262.01  270.00  260.77\n35 2023-08-10 08:00:00+00:00       4  262.07  262.07  262.07  262.07\n36 2023-08-10 09:00:00+00:00       6  266.08  262.07  266.08  262.07\n37 2023-08-10 10:00:00+00:00       4  262.15  262.15  262.15  262.15\n38 2023-08-10 11:00:00+00:00       5  265.01  265.01  265.01  265.01\n39 2023-08-10 12:00:00+00:00       1  266.69  266.69  266.69  266.69\n40 2023-08-10 15:00:00+00:00      44  266.03  266.14  266.14  264.24\n41 2023-08-10 18:00:00+00:00       1  266.56  266.56  266.56  266.56",
      "text/html": "<div>\n<style scoped>\n    .dataframe tbody tr th:only-of-type {\n        vertical-align: middle;\n    }\n\n    .dataframe tbody tr th {\n        vertical-align: top;\n    }\n\n    .dataframe thead th {\n        text-align: right;\n    }\n</style>\n<table border=\"1\" class=\"dataframe\">\n  <thead>\n    <tr style=\"text-align: right;\">\n      <th></th>\n      <th>time</th>\n      <th>volume</th>\n      <th>open</th>\n      <th>close</th>\n      <th>high</th>\n      <th>low</th>\n    </tr>\n  </thead>\n  <tbody>\n    <tr>\n      <th>0</th>\n      <td>2023-08-04 07:00:00+00:00</td>\n      <td>7</td>\n      <td>267.28</td>\n      <td>270.54</td>\n      <td>270.54</td>\n      <td>267.28</td>\n    </tr>\n    <tr>\n      <th>1</th>\n      <td>2023-08-04 08:00:00+00:00</td>\n      <td>9</td>\n      <td>270.00</td>\n      <td>270.66</td>\n      <td>270.66</td>\n      <td>270.00</td>\n    </tr>\n    <tr>\n      <th>2</th>\n      <td>2023-08-04 09:00:00+00:00</td>\n      <td>26</td>\n      <td>267.32</td>\n      <td>270.15</td>\n      <td>270.15</td>\n      <td>267.32</td>\n    </tr>\n    <tr>\n      <th>3</th>\n      <td>2023-08-04 10:00:00+00:00</td>\n      <td>10</td>\n      <td>270.85</td>\n      <td>271.00</td>\n      <td>271.00</td>\n      <td>270.02</td>\n    </tr>\n    <tr>\n      <th>4</th>\n      <td>2023-08-04 11:00:00+00:00</td>\n      <td>1</td>\n      <td>271.60</td>\n      <td>271.60</td>\n      <td>271.60</td>\n      <td>271.60</td>\n    </tr>\n    <tr>\n      <th>5</th>\n      <td>2023-08-04 12:00:00+00:00</td>\n      <td>52</td>\n      <td>270.02</td>\n      <td>268.99</td>\n      <td>270.02</td>\n      <td>267.17</td>\n    </tr>\n    <tr>\n      <th>6</th>\n      <td>2023-08-04 13:00:00+00:00</td>\n      <td>2</td>\n      <td>265.58</td>\n      <td>265.58</td>\n      <td>265.58</td>\n      <td>265.58</td>\n    </tr>\n    <tr>\n      <th>7</th>\n      <td>2023-08-04 15:00:00+00:00</td>\n      <td>86</td>\n      <td>265.77</td>\n      <td>262.74</td>\n      <td>265.90</td>\n      <td>262.74</td>\n    </tr>\n    <tr>\n      <th>8</th>\n      <td>2023-08-04 16:00:00+00:00</td>\n      <td>12</td>\n      <td>262.99</td>\n      <td>262.80</td>\n      <td>282.97</td>\n      <td>262.80</td>\n    </tr>\n    <tr>\n      <th>9</th>\n      <td>2023-08-04 17:00:00+00:00</td>\n      <td>5</td>\n      <td>262.77</td>\n      <td>262.77</td>\n      <td>262.77</td>\n      <td>262.77</td>\n    </tr>\n    <tr>\n      <th>10</th>\n      <td>2023-08-04 19:00:00+00:00</td>\n      <td>8</td>\n      <td>264.55</td>\n      <td>262.76</td>\n      <td>264.55</td>\n      <td>262.76</td>\n    </tr>\n    <tr>\n      <th>11</th>\n      <td>2023-08-07 07:00:00+00:00</td>\n      <td>13</td>\n      <td>260.56</td>\n      <td>265.55</td>\n      <td>269.96</td>\n      <td>258.01</td>\n    </tr>\n    <tr>\n      <th>12</th>\n      <td>2023-08-07 12:00:00+00:00</td>\n      <td>2</td>\n      <td>265.55</td>\n      <td>264.85</td>\n      <td>265.55</td>\n      <td>264.85</td>\n    </tr>\n    <tr>\n      <th>13</th>\n      <td>2023-08-07 13:00:00+00:00</td>\n      <td>1</td>\n      <td>263.08</td>\n      <td>263.08</td>\n      <td>263.08</td>\n      <td>263.08</td>\n    </tr>\n    <tr>\n      <th>14</th>\n      <td>2023-08-07 14:00:00+00:00</td>\n      <td>4</td>\n      <td>263.23</td>\n      <td>263.23</td>\n      <td>263.23</td>\n      <td>263.23</td>\n    </tr>\n    <tr>\n      <th>15</th>\n      <td>2023-08-07 15:00:00+00:00</td>\n      <td>93</td>\n      <td>264.12</td>\n      <td>262.23</td>\n      <td>264.12</td>\n      <td>262.23</td>\n    </tr>\n    <tr>\n      <th>16</th>\n      <td>2023-08-07 17:00:00+00:00</td>\n      <td>2</td>\n      <td>262.90</td>\n      <td>262.90</td>\n      <td>262.90</td>\n      <td>262.90</td>\n    </tr>\n    <tr>\n      <th>17</th>\n      <td>2023-08-08 07:00:00+00:00</td>\n      <td>2</td>\n      <td>262.99</td>\n      <td>262.99</td>\n      <td>262.99</td>\n      <td>262.99</td>\n    </tr>\n    <tr>\n      <th>18</th>\n      <td>2023-08-08 09:00:00+00:00</td>\n      <td>9</td>\n      <td>259.04</td>\n      <td>256.54</td>\n      <td>259.04</td>\n      <td>256.54</td>\n    </tr>\n    <tr>\n      <th>19</th>\n      <td>2023-08-08 10:00:00+00:00</td>\n      <td>8</td>\n      <td>259.01</td>\n      <td>259.01</td>\n      <td>259.01</td>\n      <td>259.01</td>\n    </tr>\n    <tr>\n      <th>20</th>\n      <td>2023-08-08 12:00:00+00:00</td>\n      <td>1</td>\n      <td>262.95</td>\n      <td>262.95</td>\n      <td>262.95</td>\n      <td>262.95</td>\n    </tr>\n    <tr>\n      <th>21</th>\n      <td>2023-08-08 14:00:00+00:00</td>\n      <td>11</td>\n      <td>262.51</td>\n      <td>264.09</td>\n      <td>264.09</td>\n      <td>262.51</td>\n    </tr>\n    <tr>\n      <th>22</th>\n      <td>2023-08-08 15:00:00+00:00</td>\n      <td>104</td>\n      <td>264.10</td>\n      <td>258.24</td>\n      <td>264.10</td>\n      <td>258.24</td>\n    </tr>\n    <tr>\n      <th>23</th>\n      <td>2023-08-08 17:00:00+00:00</td>\n      <td>1</td>\n      <td>264.93</td>\n      <td>264.93</td>\n      <td>264.93</td>\n      <td>264.93</td>\n    </tr>\n    <tr>\n      <th>24</th>\n      <td>2023-08-09 07:00:00+00:00</td>\n      <td>1</td>\n      <td>264.00</td>\n      <td>264.00</td>\n      <td>264.00</td>\n      <td>264.00</td>\n    </tr>\n    <tr>\n      <th>25</th>\n      <td>2023-08-09 08:00:00+00:00</td>\n      <td>4</td>\n      <td>264.28</td>\n      <td>264.73</td>\n      <td>264.73</td>\n      <td>264.27</td>\n    </tr>\n    <tr>\n      <th>26</th>\n      <td>2023-08-09 09:00:00+00:00</td>\n      <td>1</td>\n      <td>265.20</td>\n      <td>265.20</td>\n      <td>265.20</td>\n      <td>265.20</td>\n    </tr>\n    <tr>\n      <th>27</th>\n      <td>2023-08-09 10:00:00+00:00</td>\n      <td>8</td>\n      <td>263.01</td>\n      <td>263.01</td>\n      <td>263.01</td>\n      <td>263.01</td>\n    </tr>\n    <tr>\n      <th>28</th>\n      <td>2023-08-09 11:00:00+00:00</td>\n      <td>6</td>\n      <td>263.01</td>\n      <td>264.32</td>\n      <td>264.32</td>\n      <td>263.00</td>\n    </tr>\n    <tr>\n      <th>29</th>\n      <td>2023-08-09 12:00:00+00:00</td>\n      <td>6</td>\n      <td>268.98</td>\n      <td>264.15</td>\n      <td>268.98</td>\n      <td>264.15</td>\n    </tr>\n    <tr>\n      <th>30</th>\n      <td>2023-08-09 13:00:00+00:00</td>\n      <td>3</td>\n      <td>264.15</td>\n      <td>264.15</td>\n      <td>264.15</td>\n      <td>264.15</td>\n    </tr>\n    <tr>\n      <th>31</th>\n      <td>2023-08-09 14:00:00+00:00</td>\n      <td>1</td>\n      <td>265.22</td>\n      <td>265.22</td>\n      <td>265.22</td>\n      <td>265.22</td>\n    </tr>\n    <tr>\n      <th>32</th>\n      <td>2023-08-09 15:00:00+00:00</td>\n      <td>71</td>\n      <td>263.72</td>\n      <td>264.00</td>\n      <td>264.00</td>\n      <td>262.77</td>\n    </tr>\n    <tr>\n      <th>33</th>\n      <td>2023-08-09 17:00:00+00:00</td>\n      <td>2</td>\n      <td>257.03</td>\n      <td>257.03</td>\n      <td>257.03</td>\n      <td>257.03</td>\n    </tr>\n    <tr>\n      <th>34</th>\n      <td>2023-08-10 07:00:00+00:00</td>\n      <td>17</td>\n      <td>270.00</td>\n      <td>262.01</td>\n      <td>270.00</td>\n      <td>260.77</td>\n    </tr>\n    <tr>\n      <th>35</th>\n      <td>2023-08-10 08:00:00+00:00</td>\n      <td>4</td>\n      <td>262.07</td>\n      <td>262.07</td>\n      <td>262.07</td>\n      <td>262.07</td>\n    </tr>\n    <tr>\n      <th>36</th>\n      <td>2023-08-10 09:00:00+00:00</td>\n      <td>6</td>\n      <td>266.08</td>\n      <td>262.07</td>\n      <td>266.08</td>\n      <td>262.07</td>\n    </tr>\n    <tr>\n      <th>37</th>\n      <td>2023-08-10 10:00:00+00:00</td>\n      <td>4</td>\n      <td>262.15</td>\n      <td>262.15</td>\n      <td>262.15</td>\n      <td>262.15</td>\n    </tr>\n    <tr>\n      <th>38</th>\n      <td>2023-08-10 11:00:00+00:00</td>\n      <td>5</td>\n      <td>265.01</td>\n      <td>265.01</td>\n      <td>265.01</td>\n      <td>265.01</td>\n    </tr>\n    <tr>\n      <th>39</th>\n      <td>2023-08-10 12:00:00+00:00</td>\n      <td>1</td>\n      <td>266.69</td>\n      <td>266.69</td>\n      <td>266.69</td>\n      <td>266.69</td>\n    </tr>\n    <tr>\n      <th>40</th>\n      <td>2023-08-10 15:00:00+00:00</td>\n      <td>44</td>\n      <td>266.03</td>\n      <td>266.14</td>\n      <td>266.14</td>\n      <td>264.24</td>\n    </tr>\n    <tr>\n      <th>41</th>\n      <td>2023-08-10 18:00:00+00:00</td>\n      <td>1</td>\n      <td>266.56</td>\n      <td>266.56</td>\n      <td>266.56</td>\n      <td>266.56</td>\n    </tr>\n  </tbody>\n</table>\n</div>"
     },
     "execution_count": 3,
     "metadata": {},
     "output_type": "execute_result"
    }
   ],
   "source": [
    "from datetime import datetime, timedelta\n",
    "from tinkoff.invest import CandleInterval\n",
    "\n",
    "\n",
    "end = datetime.utcnow()\n",
    "start = end - timedelta(days=7)\n",
    "\n",
    "df = get_candles(acc_token=tok,\n",
    "            figi='TCS009029540',\n",
    "            from_=start,\n",
    "            to=end,\n",
    "            interval=CandleInterval.CANDLE_INTERVAL_HOUR)\n",
    "df"
   ],
   "metadata": {
    "collapsed": false,
    "ExecuteTime": {
     "end_time": "2023-08-11T09:35:42.680713Z",
     "start_time": "2023-08-11T09:35:42.551341Z"
    }
   },
   "id": "472d7230fa2aba2f"
  }
 ],
 "metadata": {
  "kernelspec": {
   "display_name": "Python 3",
   "language": "python",
   "name": "python3"
  },
  "language_info": {
   "codemirror_mode": {
    "name": "ipython",
    "version": 2
   },
   "file_extension": ".py",
   "mimetype": "text/x-python",
   "name": "python",
   "nbconvert_exporter": "python",
   "pygments_lexer": "ipython2",
   "version": "2.7.6"
  }
 },
 "nbformat": 4,
 "nbformat_minor": 5
}
